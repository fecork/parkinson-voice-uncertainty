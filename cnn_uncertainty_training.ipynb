{
 "cells": [
  {
   "cell_type": "markdown",
   "id": "5ac83061",
   "metadata": {},
   "source": [
    "# 🧠 CNN con Estimación de Incertidumbre (Epistémica + Aleatoria)\n",
    "\n",
    "## Pipeline de Entrenamiento e Inferencia con Cuantificación de Incertidumbre\n",
    "\n",
    "Este notebook implementa un modelo CNN con estimación de dos tipos de incertidumbre:\n",
    "\n",
    "### 🎯 Tipos de Incertidumbre:\n",
    "1. **Epistémica (modelo)**: Capturada con MC Dropout → reducible con más datos\n",
    "2. **Aleatoria (datos)**: Capturada con cabeza de varianza → irreducible\n",
    "\n",
    "### 📋 Pipeline:\n",
    "1. **Setup**: Configuración del entorno\n",
    "2. **Data Loading**: Carga de datos desde cache (augmentados)\n",
    "3. **Split**: Train/Val/Test estratificado (70/15/15)\n",
    "4. **Model**: CNN con DOS cabezas (predicción + ruido)\n",
    "5. **Training**: Pérdida heteroscedástica con ruido gaussiano\n",
    "6. **Evaluation**: MC Dropout para epistémica + σ² para aleatoria\n",
    "7. **Visualization**: Histogramas, reliability plot, scatter\n",
    "\n",
    "### 🏗️ Arquitectura:\n",
    "- **Backbone**: 2× bloques Conv2D → BN → ReLU → MaxPool(3×3) → Dropout\n",
    "- **Cabeza A**: Predicción (logits ∈ ℝ^C)\n",
    "- **Cabeza B**: Ruido de datos (s_logit = log σ² ∈ ℝ^C, clamped [-10, 3])\n",
    "- **MC Dropout**: Permanece activo en inferencia\n",
    "\n",
    "### ⚙️ Entrenamiento:\n",
    "- **Pérdida**: Heteroscedástica (log-likelihood con ruido gaussiano)\n",
    "- **T_noise**: 5 muestras de ruido en entrenamiento\n",
    "- **Optimizer**: AdamW (lr=1e-3, wd=1e-4)\n",
    "- **Early stopping**: Por val_loss\n",
    "\n",
    "### 🔬 Inferencia:\n",
    "- **T_test**: 30-50 pasadas MC Dropout\n",
    "- **Epistémica**: BALD = H(p̄) - mean H(p_t)\n",
    "- **Aleatoria**: mean σ²_t\n",
    "- **Total**: Entropía H(p̄)\n",
    "\n",
    "### ⚠️ PREREQUISITO:\n",
    "**Ejecutar primero `data_preprocessing.ipynb`** para generar el cache de datos preprocesados.\n"
   ]
  },
  {
   "cell_type": "markdown",
   "id": "43e0cbb6",
   "metadata": {},
   "source": [
    "## 1. Setup y Configuración"
   ]
  },
  {
   "cell_type": "code",
   "execution_count": 1,
   "id": "a6356aaa",
   "metadata": {},
   "outputs": [
    {
     "name": "stdout",
     "output_type": "stream",
     "text": [
      "======================================================================\n",
      "🧠 CNN CON ESTIMACIÓN DE INCERTIDUMBRE\n",
      "======================================================================\n",
      "✅ Librerías cargadas correctamente\n",
      "🔧 Dispositivo: cpu\n",
      "📦 PyTorch: 2.8.0+cpu\n",
      "======================================================================\n"
     ]
    }
   ],
   "source": [
    "# ============================================================\n",
    "# IMPORTS Y CONFIGURACIÓN\n",
    "# ============================================================\n",
    "import sys\n",
    "from pathlib import Path\n",
    "import numpy as np\n",
    "import matplotlib.pyplot as plt\n",
    "import seaborn as sns\n",
    "import warnings\n",
    "warnings.filterwarnings('ignore')\n",
    "\n",
    "# PyTorch\n",
    "import torch\n",
    "import torch.nn as nn\n",
    "import torch.optim as optim\n",
    "from torch.utils.data import DataLoader\n",
    "from sklearn.model_selection import train_test_split\n",
    "\n",
    "# Agregar módulos propios al path\n",
    "sys.path.insert(0, str(Path.cwd()))\n",
    "\n",
    "# Importar módulos propios\n",
    "from modules.augmentation import create_augmented_dataset\n",
    "from modules.dataset import to_pytorch_tensors\n",
    "from modules.uncertainty_model import UncertaintyCNN, print_uncertainty_model_summary\n",
    "from modules.uncertainty_training import train_uncertainty_model, evaluate_with_uncertainty, print_uncertainty_results\n",
    "from modules.uncertainty_visualization import (\n",
    "    plot_uncertainty_histograms,\n",
    "    plot_reliability_diagram,\n",
    "    plot_uncertainty_scatter,\n",
    "    plot_training_history_uncertainty\n",
    ")\n",
    "from modules.cnn_utils import plot_confusion_matrix\n",
    "\n",
    "# Configuración de matplotlib\n",
    "plt.style.use('seaborn-v0_8')\n",
    "plt.rcParams['figure.figsize'] = (12, 8)\n",
    "plt.rcParams['font.size'] = 12\n",
    "\n",
    "# Configuración de PyTorch\n",
    "device = torch.device('cuda' if torch.cuda.is_available() else 'cpu')\n",
    "torch.manual_seed(42)\n",
    "if torch.cuda.is_available():\n",
    "    torch.cuda.manual_seed(42)\n",
    "\n",
    "# Reporte de configuración\n",
    "print(\"=\"*70)\n",
    "print(\"🧠 CNN CON ESTIMACIÓN DE INCERTIDUMBRE\")\n",
    "print(\"=\"*70)\n",
    "print(f\"✅ Librerías cargadas correctamente\")\n",
    "print(f\"🔧 Dispositivo: {device}\")\n",
    "print(f\"📦 PyTorch: {torch.__version__}\")\n",
    "if torch.cuda.is_available():\n",
    "    print(f\"🎮 GPU: {torch.cuda.get_device_name(0)}\")\n",
    "print(\"=\"*70)"
   ]
  },
  {
   "cell_type": "markdown",
   "id": "e5c2f73e",
   "metadata": {},
   "source": [
    "## 2. Carga de Datos"
   ]
  },
  {
   "cell_type": "code",
   "execution_count": 2,
   "id": "79663463",
   "metadata": {},
   "outputs": [
    {
     "name": "stdout",
     "output_type": "stream",
     "text": [
      "======================================================================\n",
      "📁 CARGANDO DATOS DESDE CACHE\n",
      "======================================================================\n",
      "\n",
      "⚙️  Configuración:\n",
      "   • Augmentation: original, pitch_shift, time_stretch, noise\n",
      "   • SpecAugment versions: 2\n"
     ]
    }
   ],
   "source": [
    "# ============================================================\n",
    "# CONFIGURACIÓN DE RUTAS\n",
    "# ============================================================\n",
    "\n",
    "DATA_PATH_HEALTHY = \"./data/vowels_healthy\"\n",
    "DATA_PATH_PARKINSON = \"./data/vowels_pk\"\n",
    "CACHE_DIR_HEALTHY = \"./cache/healthy\"\n",
    "CACHE_DIR_PARKINSON = \"./cache/parkinson\"\n",
    "\n",
    "# Configuración de augmentation\n",
    "AUGMENTATION_TYPES = [\"original\", \"pitch_shift\", \"time_stretch\", \"noise\"]\n",
    "NUM_SPEC_AUGMENT_VERSIONS = 2\n",
    "\n",
    "print(\"=\"*70)\n",
    "print(\"📁 CARGANDO DATOS DESDE CACHE\")\n",
    "print(\"=\"*70)\n",
    "print(f\"\\n⚙️  Configuración:\")\n",
    "print(f\"   • Augmentation: {', '.join(AUGMENTATION_TYPES)}\")\n",
    "print(f\"   • SpecAugment versions: {NUM_SPEC_AUGMENT_VERSIONS}\")"
   ]
  },
  {
   "cell_type": "code",
   "execution_count": 3,
   "id": "fd5bf30c",
   "metadata": {},
   "outputs": [
    {
     "name": "stdout",
     "output_type": "stream",
     "text": [
      "\n",
      "🟢 CARGANDO HEALTHY...\n",
      "============================================================\n",
      "   Archivos encontrados: 13\n",
      "💾 Cargando dataset desde cache...\n",
      "   📁 ./cache/healthy\\augmented_dataset_c6631e32.pkl\n",
      "✅ Cache cargado exitosamente: 1553 muestras\n",
      "⚡ Tiempo ahorrado: ~6.5 min\n",
      "📊 PyTorch tensors listos:\n",
      "  - X: (1553, 1, 65, 41)\n",
      "  - y_task: (1553,)  (dist={0: 1553})\n",
      "  - y_domain: (1553,)  (K dominios=13)\n",
      "\n",
      "✅ Healthy cargado:\n",
      "   • Muestras: 1553\n",
      "   • Shape: torch.Size([1553, 1, 65, 41])\n"
     ]
    }
   ],
   "source": [
    "# ============================================================\n",
    "# CARGAR DATOS HEALTHY\n",
    "# ============================================================\n",
    "\n",
    "print(f\"\\n🟢 CARGANDO HEALTHY...\")\n",
    "print(\"=\"*60)\n",
    "\n",
    "audio_files_healthy = list(Path(DATA_PATH_HEALTHY).glob(\"*.egg\"))\n",
    "print(f\"   Archivos encontrados: {len(audio_files_healthy)}\")\n",
    "\n",
    "augmented_dataset_healthy = create_augmented_dataset(\n",
    "    audio_files_healthy,\n",
    "    augmentation_types=AUGMENTATION_TYPES,\n",
    "    apply_spec_augment=True,\n",
    "    num_spec_augment_versions=NUM_SPEC_AUGMENT_VERSIONS,\n",
    "    use_cache=True,\n",
    "    cache_dir=CACHE_DIR_HEALTHY,\n",
    "    force_regenerate=False,\n",
    "    progress_every=5\n",
    ")\n",
    "\n",
    "X_healthy, y_task_healthy, y_domain_healthy, meta_healthy = to_pytorch_tensors(\n",
    "    augmented_dataset_healthy\n",
    ")\n",
    "\n",
    "print(f\"\\n✅ Healthy cargado:\")\n",
    "print(f\"   • Muestras: {X_healthy.shape[0]}\")\n",
    "print(f\"   • Shape: {X_healthy.shape}\")\n"
   ]
  },
  {
   "cell_type": "markdown",
   "id": "8466afc6",
   "metadata": {},
   "source": [
    "## 3. Modelo con Incertidumbre"
   ]
  },
  {
   "cell_type": "code",
   "execution_count": 4,
   "id": "e5f11f37",
   "metadata": {},
   "outputs": [
    {
     "name": "stdout",
     "output_type": "stream",
     "text": [
      "\n",
      "============================================================\n",
      "RESUMEN DEL MODELO CON INCERTIDUMBRE\n",
      "============================================================\n",
      "UncertaintyCNN(\n",
      "  (features): Sequential(\n",
      "    (0): Conv2d(1, 32, kernel_size=(3, 3), stride=(1, 1), padding=(1, 1))\n",
      "    (1): BatchNorm2d(32, eps=1e-05, momentum=0.1, affine=True, track_running_stats=True)\n",
      "    (2): ReLU(inplace=True)\n",
      "    (3): MaxPool2d(kernel_size=3, stride=2, padding=1, dilation=1, ceil_mode=False)\n",
      "    (4): MCDropout2d()\n",
      "    (5): Conv2d(32, 64, kernel_size=(3, 3), stride=(1, 1), padding=(1, 1))\n",
      "    (6): BatchNorm2d(64, eps=1e-05, momentum=0.1, affine=True, track_running_stats=True)\n",
      "    (7): ReLU(inplace=True)\n",
      "    (8): MaxPool2d(kernel_size=3, stride=2, padding=1, dilation=1, ceil_mode=False)\n",
      "    (9): MCDropout2d()\n",
      "    (10): AdaptiveAvgPool2d(output_size=1)\n",
      "    (11): Flatten(start_dim=1, end_dim=-1)\n",
      "  )\n",
      "  (head_logits): Sequential(\n",
      "    (0): Linear(in_features=64, out_features=64, bias=True)\n",
      "    (1): ReLU(inplace=True)\n",
      "    (2): MCDropout()\n",
      "    (3): Linear(in_features=64, out_features=2, bias=True)\n",
      "  )\n",
      "  (head_noise): Sequential(\n",
      "    (0): Linear(in_features=64, out_features=64, bias=True)\n",
      "    (1): ReLU(inplace=True)\n",
      "    (2): MCDropout()\n",
      "    (3): Linear(in_features=64, out_features=2, bias=True)\n",
      "  )\n",
      ")\n",
      "\n",
      "------------------------------------------------------------\n",
      "Parámetros totales: 27,588\n",
      "Parámetros entrenables: 27,588\n",
      "------------------------------------------------------------\n",
      "\n"
     ]
    }
   ],
   "source": [
    "# Crear modelo con dos cabezas\n",
    "model = UncertaintyCNN(\n",
    "    n_classes=2,\n",
    "    p_drop_conv=0.25,\n",
    "    p_drop_fc=0.25,\n",
    "    input_shape=(65, 41),\n",
    "    s_min=-10.0,\n",
    "    s_max=3.0\n",
    ").to(device)\n",
    "\n",
    "print_uncertainty_model_summary(model)"
   ]
  },
  {
   "cell_type": "markdown",
   "id": "a038904d",
   "metadata": {},
   "source": [
    "## 4. Entrenamiento"
   ]
  },
  {
   "cell_type": "code",
   "execution_count": 5,
   "id": "57208d1c",
   "metadata": {},
   "outputs": [],
   "source": [
    "# Entrenar con pérdida heteroscedástica\n",
    "# (continuar con el resto del flujo)"
   ]
  }
 ],
 "metadata": {
  "kernelspec": {
   "display_name": "parkinson_env",
   "language": "python",
   "name": "parkinson_env"
  },
  "language_info": {
   "codemirror_mode": {
    "name": "ipython",
    "version": 3
   },
   "file_extension": ".py",
   "mimetype": "text/x-python",
   "name": "python",
   "nbconvert_exporter": "python",
   "pygments_lexer": "ipython3",
   "version": "3.10.3"
  }
 },
 "nbformat": 4,
 "nbformat_minor": 5
}
