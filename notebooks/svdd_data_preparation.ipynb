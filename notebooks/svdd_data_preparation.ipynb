{
 "cells": [
  {
   "cell_type": "markdown",
   "metadata": {},
   "source": [
    "# 🎯 Preparación de Dataset SVDD para Entrenamiento\n",
    "\n",
    "## Objetivo\n",
    "Extraer, convertir y balancear archivos de audio vocal `/a/` del dataset SVDD (ZIP anidado) hacia una estructura organizada Healthy/Pathological en formato `.wav` para entrenamiento de CNN.\n",
    "\n",
    "## Proceso\n",
    "1. **Exploración**: Analizar estructura del ZIP anidado\n",
    "2. **Extracción**: Filtrar solo vocales `/a/` (archivos con `-a_` o `-a.` en nombre)\n",
    "3. **Conversión**: Transformar `.NSP` → `.wav` (44.1 kHz mono)\n",
    "4. **Balanceo**: Distribuir uniformemente entre Healthy y Pathological\n",
    "5. **Organización**: Estructura final `/data/svdd_processed/`\n",
    "6. **Validación**: Verificar integridad y generar reportes\n",
    "\n",
    "---\n"
   ]
  },
  {
   "cell_type": "code",
   "execution_count": null,
   "metadata": {},
   "outputs": [
    {
     "name": "stdout",
     "output_type": "stream",
     "text": [
      "Librerías importadas correctamente\n",
      "Directorio de trabajo: C:\\Proyectos\\PHD- Parkinson - Incertidumbre - Prototipo\\parkinson-voice-uncertainty\\notebooks\n",
      "ZIP origen: C:\\Users\\fecor\\Downloads\\16874898.zip\n",
      "Directorio temporal: temp\\svdd_extraction\n",
      "Directorio salida: data\\svdd_processed\n",
      "Sample rate objetivo: 44100 Hz\n",
      "Patrón vocal /a/: -a[._]\n",
      "Seed: 42\n",
      "\n",
      "Verificando estado previo del proceso...\n",
      "Estado previo encontrado: exploration\n",
      "Proceso previo encontrado en paso: exploration\n",
      "Timestamp: 2025-10-23T18:39:33.342374\n",
      "\n",
      "¿Desea continuar desde donde se quedó? (y/n)\n"
     ]
    },
    {
     "name": "stdout",
     "output_type": "stream",
     "text": [
      "Continuar proceso previo? [y/n]:  n\n"
     ]
    },
    {
     "name": "stdout",
     "output_type": "stream",
     "text": [
      "Iniciando proceso desde el principio...\n"
     ]
    },
    {
     "name": "stdout",
     "output_type": "stream",
     "text": [
      "Continuando proceso previo...\n"
     ]
    },
    {
     "name": "stdout",
     "output_type": "stream",
     "text": [
      "Iniciando proceso desde el principio...\n"
     ]
    }
   ],
   "source": [
    "# ============================================================================\n",
    "# 1. CONFIGURACIÓN Y DEPENDENCIAS\n",
    "# ============================================================================\n",
    "\n",
    "import zipfile\n",
    "import os\n",
    "import shutil\n",
    "import re\n",
    "import random\n",
    "import json\n",
    "import io\n",
    "from pathlib import Path\n",
    "from typing import List, Dict, Tuple, Optional\n",
    "import warnings\n",
    "from concurrent.futures import ThreadPoolExecutor, as_completed\n",
    "import threading\n",
    "warnings.filterwarnings('ignore')\n",
    "\n",
    "# Análisis de datos\n",
    "import pandas as pd\n",
    "import numpy as np\n",
    "\n",
    "# Audio processing\n",
    "import soundfile as sf\n",
    "import librosa\n",
    "\n",
    "# Visualización\n",
    "import matplotlib.pyplot as plt\n",
    "import seaborn as sns\n",
    "from tqdm import tqdm\n",
    "\n",
    "# Configuración de matplotlib\n",
    "plt.style.use('default')\n",
    "sns.set_palette(\"husl\")\n",
    "\n",
    "print(\"Librerías importadas correctamente\")\n",
    "print(f\"Directorio de trabajo: {os.getcwd()}\")\n",
    "\n",
    "# ============================================================================\n",
    "# CONFIGURACIÓN DE PARÁMETROS\n",
    "# ============================================================================\n",
    "\n",
    "# Rutas\n",
    "ZIP_PATH = r\"C:\\Users\\fecor\\Downloads\\16874898.zip\"\n",
    "TEMP_DIR = Path(\"./temp/svdd_extraction\")\n",
    "OUTPUT_DIR = Path(\"../data/svdd_processed\")\n",
    "HEALTHY_DIR = OUTPUT_DIR / \"healthy\"\n",
    "PATHOLOGICAL_DIR = OUTPUT_DIR / \"pathological\"\n",
    "\n",
    "# Crear directorios necesarios\n",
    "OUTPUT_DIR.mkdir(parents=True, exist_ok=True)\n",
    "TEMP_DIR.mkdir(parents=True, exist_ok=True)\n",
    "\n",
    "# Parámetros de audio\n",
    "TARGET_SAMPLE_RATE = 44100\n",
    "VOWEL_PATTERN = r'-a[._]'  # Patrón para vocal /a/\n",
    "SEED = 42\n",
    "\n",
    "# Archivos de estado para resumir proceso\n",
    "STATE_FILE = Path(\"./temp/svdd_state.json\")\n",
    "EXTRACTED_DF_FILE = Path(\"./temp/extracted_df.pkl\")\n",
    "CONVERSION_DF_FILE = Path(\"./temp/conversion_df.pkl\")\n",
    "BALANCED_DF_FILE = Path(\"./temp/balanced_df.pkl\")\n",
    "METADATA_FILE = OUTPUT_DIR / \"metadata.json\"\n",
    "\n",
    "# Configurar seeds para reproducibilidad\n",
    "random.seed(SEED)\n",
    "np.random.seed(SEED)\n",
    "\n",
    "print(f\"ZIP origen: {ZIP_PATH}\")\n",
    "print(f\"Directorio temporal: {TEMP_DIR}\")\n",
    "print(f\"Directorio salida: {OUTPUT_DIR}\")\n",
    "print(f\"Sample rate objetivo: {TARGET_SAMPLE_RATE} Hz\")\n",
    "print(f\"Patrón vocal /a/: {VOWEL_PATTERN}\")\n",
    "print(f\"Seed: {SEED}\")\n",
    "\n",
    "# ============================================================================\n",
    "# FUNCIONES DE ESTADO PARA PROCESO RESUMIBLE\n",
    "# ============================================================================\n",
    "\n",
    "def save_state(step: str, data: Dict = None):\n",
    "    \"\"\"\n",
    "    Guarda el estado actual del proceso.\n",
    "    \n",
    "    Args:\n",
    "        step: Paso actual del proceso\n",
    "        data: Datos adicionales a guardar\n",
    "    \"\"\"\n",
    "    state = {\n",
    "        'current_step': step,\n",
    "        'timestamp': pd.Timestamp.now().isoformat(),\n",
    "        'zip_path': ZIP_PATH,\n",
    "        'output_dir': str(OUTPUT_DIR),\n",
    "        'data': data or {}\n",
    "    }\n",
    "    \n",
    "    # Crear directorio temporal si no existe\n",
    "    TEMP_DIR.mkdir(parents=True, exist_ok=True)\n",
    "    \n",
    "    with open(STATE_FILE, 'w', encoding='utf-8') as f:\n",
    "        json.dump(state, f, indent=2, ensure_ascii=False)\n",
    "    \n",
    "    print(f\"Estado guardado: {step}\")\n",
    "\n",
    "def load_state() -> Optional[Dict]:\n",
    "    \"\"\"\n",
    "    Carga el estado previo del proceso.\n",
    "    \n",
    "    Returns:\n",
    "        Estado previo o None si no existe\n",
    "    \"\"\"\n",
    "    if STATE_FILE.exists():\n",
    "        try:\n",
    "            with open(STATE_FILE, 'r', encoding='utf-8') as f:\n",
    "                state = json.load(f)\n",
    "            print(f\"Estado previo encontrado: {state.get('current_step', 'desconocido')}\")\n",
    "            return state\n",
    "        except Exception as e:\n",
    "            print(f\"Error cargando estado: {e}\")\n",
    "            return None\n",
    "    return None\n",
    "\n",
    "def save_dataframe(df: pd.DataFrame, file_path: Path):\n",
    "    \"\"\"\n",
    "    Guarda DataFrame en archivo pickle.\n",
    "    \n",
    "    Args:\n",
    "        df: DataFrame a guardar\n",
    "        file_path: Ruta del archivo\n",
    "    \"\"\"\n",
    "    if not df.empty:\n",
    "        df.to_pickle(file_path)\n",
    "        print(f\"DataFrame guardado: {file_path}\")\n",
    "\n",
    "def load_dataframe(file_path: Path) -> pd.DataFrame:\n",
    "    \"\"\"\n",
    "    Carga DataFrame desde archivo pickle.\n",
    "    \n",
    "    Args:\n",
    "        file_path: Ruta del archivo\n",
    "        \n",
    "    Returns:\n",
    "        DataFrame cargado o DataFrame vacío\n",
    "    \"\"\"\n",
    "    if file_path.exists():\n",
    "        try:\n",
    "            df = pd.read_pickle(file_path)\n",
    "            print(f\"DataFrame cargado: {file_path} ({len(df)} filas)\")\n",
    "            return df\n",
    "        except Exception as e:\n",
    "            print(f\"Error cargando DataFrame: {e}\")\n",
    "            return pd.DataFrame()\n",
    "    return pd.DataFrame()\n",
    "\n",
    "def check_step_completed(step: str) -> bool:\n",
    "    \"\"\"\n",
    "    Verifica si un paso ya fue completado.\n",
    "    \n",
    "    Args:\n",
    "        step: Nombre del paso\n",
    "        \n",
    "    Returns:\n",
    "        True si el paso está completado\n",
    "    \"\"\"\n",
    "    state = load_state()\n",
    "    if state and state.get('current_step') == step:\n",
    "        return True\n",
    "    \n",
    "    # Verificaciones específicas por paso\n",
    "    if step == 'extraction':\n",
    "        return not extracted_df.empty if 'extracted_df' in globals() else False\n",
    "    elif step == 'conversion':\n",
    "        return not conversion_df.empty if 'conversion_df' in globals() else False\n",
    "    elif step == 'balancing':\n",
    "        return not balanced_df.empty if 'balanced_df' in globals() else False\n",
    "    elif step == 'organization':\n",
    "        return OUTPUT_DIR.exists() and (HEALTHY_DIR.exists() or PATHOLOGICAL_DIR.exists())\n",
    "    elif step == 'validation':\n",
    "        return METADATA_FILE.exists()\n",
    "    \n",
    "    return False\n",
    "\n",
    "# Inicializar variables globales\n",
    "extracted_df = pd.DataFrame()\n",
    "conversion_df = pd.DataFrame()\n",
    "balanced_df = pd.DataFrame()\n",
    "final_metadata = {}\n",
    "validation_results = {}\n",
    "\n",
    "# Intentar cargar estado previo\n",
    "print(\"\\nVerificando estado previo del proceso...\")\n",
    "prev_state = load_state()\n",
    "\n",
    "if prev_state:\n",
    "    print(f\"Proceso previo encontrado en paso: {prev_state.get('current_step', 'desconocido')}\")\n",
    "    print(f\"Timestamp: {prev_state.get('timestamp', 'desconocido')}\")\n",
    "    \n",
    "    # Preguntar si continuar\n",
    "    print(\"\\n¿Desea continuar desde donde se quedó? (y/n)\")\n",
    "    continue_process = input(\"Continuar proceso previo? [y/n]: \").lower().strip()\n",
    "    \n",
    "    if continue_process == 'y':\n",
    "        print(\"Continuando proceso previo...\")\n",
    "        # Cargar DataFrames guardados\n",
    "        extracted_df = load_dataframe(EXTRACTED_DF_FILE)\n",
    "        conversion_df = load_dataframe(CONVERSION_DF_FILE)\n",
    "        balanced_df = load_dataframe(BALANCED_DF_FILE)\n",
    "        \n",
    "        # Cargar metadata si existe\n",
    "        if METADATA_FILE.exists():\n",
    "            try:\n",
    "                with open(METADATA_FILE, 'r', encoding='utf-8') as f:\n",
    "                    final_metadata = json.load(f)\n",
    "                print(\"Metadata previa cargada\")\n",
    "            except:\n",
    "                pass\n",
    "    else:\n",
    "        print(\"Iniciando proceso desde el principio...\")\n",
    "        # Limpiar archivos de estado\n",
    "        for file in [STATE_FILE, EXTRACTED_DF_FILE, CONVERSION_DF_FILE, BALANCED_DF_FILE]:\n",
    "            if file.exists():\n",
    "                file.unlink()\n",
    "else:\n",
    "    print(\"No se encontró proceso previo. Iniciando desde el principio...\")\n"
   ]
  },
  {
   "cell_type": "code",
   "execution_count": 5,
   "metadata": {},
   "outputs": [
    {
     "name": "stdout",
     "output_type": "stream",
     "text": [
      "\n",
      "Iniciando exploración del ZIP...\n",
      "[PASO 1/8] Explorando estructura del ZIP: C:\\Users\\fecor\\Downloads\\16874898.zip\n",
      "ZIP principal abierto: 73 archivos\n",
      "ZIPs anidados encontrados: 73\n",
      "ZIPs encontrados:\n",
      "   1. Cyste.zip\n",
      "   2. Poltersyndrom.zip\n",
      "   3. Sängerstimme.zip\n",
      "   4. Frontolaterale Teilresektion.zip\n",
      "   5. Morbus Parkinson.zip\n",
      "   6. Kehlkopftumor.zip\n",
      "   7. Sigmatismus.zip\n",
      "   8. Reinke Ödem.zip\n",
      "   9. Granulom.zip\n",
      "   10. Morbus Down.zip\n",
      "   ... y 63 más\n",
      "   Saltando data.zip (ZIP problemático)\n",
      "ZIPs a procesar: 72\n",
      "ZIPs pequeños: 43\n",
      "ZIPs grandes: 29\n",
      "   [PEQUEÑO] Enviando Cyste.zip (35.4 MB) a hilo\n",
      "   [PEQUEÑO] Enviando Poltersyndrom.zip (21.6 MB) a hilo\n",
      "   [PEQUEÑO] Enviando Sängerstimme.zip (22.5 MB) a hilo\n",
      "   [PEQUEÑO] Enviando Morbus Parkinson.zip (5.3 MB) a hilo\n",
      "   [PEQUEÑO] Enviando Kehlkopftumor.zip (34.5 MB) a hilo\n",
      "   [PEQUEÑO] Enviando Sigmatismus.zip (35.0 MB) a hilo\n",
      "   [PEQUEÑO] Enviando Granulom.zip (16.1 MB) a hilo\n",
      "   [PEQUEÑO] Enviando Morbus Down.zip (8.6 MB) a hilo\n",
      "   [PEQUEÑO] Enviando Epiglottiskarzinom.zip (9.2 MB) a hilo\n",
      "   [PEQUEÑO] Enviando Mediale Halscyste.zip (7.2 MB) a hilo\n",
      "   [PEQUEÑO] Enviando Intubationsschaden.zip (21.7 MB) a hilo\n",
      "   [PEQUEÑO] Enviando Rhinophonie clausa.zip (12.1 MB) a hilo\n",
      "   [PEQUEÑO] Enviando Synechie.zip (22.2 MB) a hilo\n",
      "   [PEQUEÑO] Enviando Taschenfaltenhyperplasie.zip (22.1 MB) a hilo\n",
      "   [PEQUEÑO] Enviando Psychogene Mikrophonie.zip (8.2 MB) a hilo\n",
      "   [PEQUEÑO] Enviando Hyperasthenie.zip (10.4 MB) a hilo\n",
      "   [PEQUEÑO] Enviando Intubationsgranulom.zip (31.7 MB) a hilo\n",
      "   [PEQUEÑO] Enviando Chondrom.zip (6.2 MB) a hilo\n",
      "   [PEQUEÑO] Enviando Hypotone Dysphonie.zip (43.8 MB) a hilo\n",
      "   [PEQUEÑO] Enviando N. laryngeus superior Neuralgie.zip (22.3 MB) a hilo\n",
      "   [PEQUEÑO] Enviando Rhinophonie mixta.zip (11.2 MB) a hilo\n",
      "   [PEQUEÑO] Enviando Amyotrophe Lateralsklerose.zip (13.5 MB) a hilo\n",
      "   [PEQUEÑO] Enviando Bulbärparalyse.zip (24.3 MB) a hilo\n",
      "   [PEQUEÑO] Enviando Orofaciale Dyspraxie.zip (9.2 MB) a hilo\n",
      "   [PEQUEÑO] Enviando N. laryngeus superior Läsion.zip (23.1 MB) a hilo\n",
      "   [PEQUEÑO] Enviando Fibrom.zip (17.5 MB) a hilo\n",
      "   [PEQUEÑO] Enviando GERD.zip (31.1 MB) a hilo\n",
      "   [PEQUEÑO] Enviando Dysplastischer Kehlkopf.zip (10.3 MB) a hilo\n",
      "   [PEQUEÑO] Enviando Carcinoma in situ.zip (7.4 MB) a hilo\n",
      "   [PEQUEÑO] Enviando Dish-Syndrom.zip (8.8 MB) a hilo\n",
      "   [PEQUEÑO] Enviando Monochorditis.zip (25.2 MB) a hilo\n",
      "   [PEQUEÑO] Enviando Psychogene Aphonie.zip (9.6 MB) a hilo\n",
      "   [PEQUEÑO] Enviando Mutatio.zip (19.0 MB) a hilo\n",
      "   [PEQUEÑO] Enviando Velopharyngoplastik.zip (19.1 MB) a hilo\n",
      "   [PEQUEÑO] Enviando Valleculacyste.zip (7.1 MB) a hilo\n",
      "   [PEQUEÑO] Enviando Juvenile Dysphonie.zip (8.2 MB) a hilo\n",
      "   [PEQUEÑO] Enviando Laryngozele.zip (26.3 MB) a hilo\n",
      "   [PEQUEÑO] Enviando Dysplastische Dysphonie.zip (10.1 MB) a hilo\n",
      "   [PEQUEÑO] Enviando Non-fluency-Syndrom.zip (21.7 MB) a hilo\n",
      "   [PEQUEÑO] Enviando Papillom.zip (8.1 MB) a hilo\n",
      "   [PEQUEÑO] Enviando Diplophonie.zip (40.2 MB) a hilo\n",
      "   [PEQUEÑO] Enviando Mesopharynxtumor.zip (12.8 MB) a hilo\n",
      "   [PEQUEÑO] Enviando Internusschwäche.zip (10.0 MB) a hilo\n",
      "   [GRANDE] Enviando Frontolaterale Teilresektion.zip (319.0 MB) a hilo\n",
      "   [GRANDE] Enviando Reinke Ödem.zip (549.4 MB) a hilo\n",
      "   [GRANDE] Enviando Dysarthrophonie.zip (137.2 MB) a hilo\n",
      "   [GRANDE] Enviando Stimmlippenpolyp.zip (367.5 MB) a hilo\n",
      "   [GRANDE] Enviando Zentral-laryngale Bewegungsstörung.zip (127.0 MB) a hilo\n",
      "   [GRANDE] Enviando Hyperfunktionelle Dysphonie.zip (1839.0 MB) a hilo\n",
      "   [GRANDE] Enviando Taschenfaltenstimme.zip (90.5 MB) a hilo\n",
      "   [GRANDE] Enviando Phonationsknötchen.zip (158.0 MB) a hilo\n",
      "   [GRANDE] Enviando Laryngitis.zip (1138.3 MB) a hilo\n",
      "   [GRANDE] Enviando Leukoplakie.zip (342.5 MB) a hilo\n",
      "   [GRANDE] Enviando Balbuties.zip (153.6 MB) a hilo\n",
      "   [GRANDE] Enviando Rhinophonie aperta.zip (135.6 MB) a hilo\n",
      "   [GRANDE] Enviando Vox senilis.zip (316.5 MB) a hilo\n",
      "   [GRANDE] Enviando Dysodie.zip (493.6 MB) a hilo\n",
      "   [GRANDE] Enviando Funktionelle Dysphonie.zip (895.4 MB) a hilo\n",
      "   [GRANDE] Enviando Rekurrensparese.zip (1812.4 MB) a hilo\n",
      "   [GRANDE] Enviando healthy.zip (5741.1 MB) a hilo\n",
      "   [GRANDE] Enviando Spasmodische Dysphonie.zip (469.8 MB) a hilo\n",
      "   [GRANDE] Enviando Dysphonie.zip (822.0 MB) a hilo\n",
      "   [GRANDE] Enviando Stimmlippenkarzinom.zip (189.8 MB) a hilo\n",
      "   [GRANDE] Enviando Mutationsfistelstimme.zip (87.6 MB) a hilo\n",
      "   [GRANDE] Enviando Gesangsstimme.zip (166.5 MB) a hilo\n",
      "   [GRANDE] Enviando Psychogene Dysphonie.zip (744.6 MB) a hilo\n",
      "   [GRANDE] Enviando Aryluxation.zip (51.7 MB) a hilo\n",
      "   [GRANDE] Enviando Chordektomie.zip (464.3 MB) a hilo\n",
      "   [GRANDE] Enviando Phonasthenie.zip (86.1 MB) a hilo\n",
      "   [GRANDE] Enviando Hypofunktionelle Dysphonie.zip (130.0 MB) a hilo\n",
      "   [GRANDE] Enviando Hypopharynxtumor.zip (54.3 MB) a hilo\n",
      "   [GRANDE] Enviando Kontaktpachydermie.zip (590.0 MB) a hilo\n",
      "\n",
      "Procesando 72 ZIPs en paralelo...\n",
      "     [PEQUEÑO] Morbus Parkinson.zip: 14 archivos .NSP\n",
      "     [PEQUEÑO] Morbus Parkinson.zip completado: 4 vocales /a/\n",
      "     [PEQUEÑO] Sängerstimme.zip: 28 archivos .NSP\n",
      "     [PEQUEÑO] Sängerstimme.zip completado: 8 vocales /a/\n",
      "     [PEQUEÑO] Cyste.zip: 84 archivos .NSP\n",
      "     [PEQUEÑO] Cyste.zip completado: 24 vocales /a/\n",
      "   Completado 1/72: small\n",
      "     [PEQUEÑO] Poltersyndrom.zip: 42 archivos .NSP\n",
      "     [PEQUEÑO] Poltersyndrom.zip completado: 12 vocales /a/\n",
      "   Completado 2/72: small\n",
      "   Completado 3/72: small\n",
      "   Completado 4/72: small\n",
      "     [PEQUEÑO] Morbus Down.zip: 14 archivos .NSP\n",
      "     [PEQUEÑO] Morbus Down.zip completado: 4 vocales /a/\n",
      "     [PEQUEÑO] Kehlkopftumor.zip: 70 archivos .NSP\n",
      "     [PEQUEÑO] Kehlkopftumor.zip completado: 20 vocales /a/\n",
      "     [PEQUEÑO] Granulom.zip: 28 archivos .NSP\n",
      "     [PEQUEÑO] Granulom.zip completado: 8 vocales /a/\n",
      "   Completado 5/72: small\n",
      "     [PEQUEÑO] Epiglottiskarzinom.zip: 14 archivos .NSP\n",
      "     [PEQUEÑO] Epiglottiskarzinom.zip completado: 4 vocales /a/\n",
      "     [PEQUEÑO] Mediale Halscyste.zip: 14 archivos .NSP\n",
      "     [PEQUEÑO] Mediale Halscyste.zip completado: 4 vocales /a/\n",
      "     [PEQUEÑO] Sigmatismus.zip: 56 archivos .NSP\n",
      "     [PEQUEÑO] Sigmatismus.zip completado: 16 vocales /a/\n",
      "   Completado 6/72: small\n",
      "   Completado 7/72: small\n",
      "   Completado 8/72: small\n",
      "   Completado 9/72: small\n",
      "   Completado 10/72: small\n",
      "     [PEQUEÑO] Rhinophonie clausa.zip: 14 archivos .NSP\n",
      "     [PEQUEÑO] Rhinophonie clausa.zip completado: 4 vocales /a/\n",
      "     [PEQUEÑO] Intubationsschaden.zip: 42 archivos .NSP\n",
      "     [PEQUEÑO] Intubationsschaden.zip completado: 12 vocales /a/\n",
      "   Completado 11/72: small\n",
      "   Completado 12/72: small\n",
      "     [PEQUEÑO] Hyperasthenie.zip: 14 archivos .NSP\n",
      "     [PEQUEÑO] Hyperasthenie.zip completado: 4 vocales /a/\n",
      "     [PEQUEÑO] Synechie.zip: 28 archivos .NSP\n",
      "     [PEQUEÑO] Synechie.zip completado: 8 vocales /a/\n",
      "   Completado 13/72: small\n",
      "     [PEQUEÑO] Psychogene Mikrophonie.zip: 14 archivos .NSP\n",
      "     [PEQUEÑO] Psychogene Mikrophonie.zip completado: 4 vocales /a/\n",
      "     [PEQUEÑO] Chondrom.zip: 14 archivos .NSP\n",
      "     [PEQUEÑO] Chondrom.zip completado: 4 vocales /a/\n",
      "     [PEQUEÑO] Taschenfaltenhyperplasie.zip: 28 archivos .NSP\n",
      "     [PEQUEÑO] Taschenfaltenhyperplasie.zip completado: 8 vocales /a/\n",
      "   Completado 14/72: small\n",
      "   Completado 15/72: small\n",
      "   Completado 16/72: small\n",
      "     [PEQUEÑO] Intubationsgranulom.zip: 56 archivos .NSP\n",
      "     [PEQUEÑO] Intubationsgranulom.zip completado: 16 vocales /a/\n",
      "   Completado 17/72: small\n",
      "   Completado 18/72: small\n",
      "     [PEQUEÑO] Rhinophonie mixta.zip: 14 archivos .NSP\n",
      "     [PEQUEÑO] Rhinophonie mixta.zip completado: 4 vocales /a/\n",
      "     [PEQUEÑO] N. laryngeus superior Neuralgie.zip: 42 archivos .NSP\n",
      "     [PEQUEÑO] N. laryngeus superior Neuralgie.zip completado: 12 vocales /a/\n",
      "     [PEQUEÑO] Hypotone Dysphonie.zip: 70 archivos .NSP\n",
      "     [PEQUEÑO] Hypotone Dysphonie.zip completado: 20 vocales /a/\n",
      "   Completado 19/72: small\n",
      "   Completado 20/72: small\n",
      "   Completado 21/72: small\n",
      "     [PEQUEÑO] Amyotrophe Lateralsklerose.zip: 28 archivos .NSP\n",
      "     [PEQUEÑO] Amyotrophe Lateralsklerose.zip completado: 8 vocales /a/\n",
      "   Completado 22/72: small\n",
      "     [PEQUEÑO] Orofaciale Dyspraxie.zip: 14 archivos .NSP\n",
      "     [PEQUEÑO] Orofaciale Dyspraxie.zip completado: 4 vocales /a/\n",
      "     [PEQUEÑO] Bulbärparalyse.zip: 28 archivos .NSP\n",
      "     [PEQUEÑO] Bulbärparalyse.zip completado: 8 vocales /a/\n",
      "   Completado 23/72: small\n",
      "   Completado 24/72: small\n",
      "     [PEQUEÑO] Fibrom.zip: 28 archivos .NSP\n",
      "     [PEQUEÑO] Fibrom.zip completado: 8 vocales /a/\n",
      "     [PEQUEÑO] N. laryngeus superior Läsion.zip: 42 archivos .NSP\n",
      "     [PEQUEÑO] N. laryngeus superior Läsion.zip completado: 12 vocales /a/\n",
      "   Completado 25/72: small\n",
      "   Completado 26/72: small\n",
      "     [PEQUEÑO] Dysplastischer Kehlkopf.zip: 14 archivos .NSP\n",
      "     [PEQUEÑO] Dysplastischer Kehlkopf.zip completado: 4 vocales /a/\n",
      "     [PEQUEÑO] Carcinoma in situ.zip: 14 archivos .NSP\n",
      "     [PEQUEÑO] Carcinoma in situ.zip completado: 4 vocales /a/\n",
      "     [PEQUEÑO] Dish-Syndrom.zip: 14 archivos .NSP\n",
      "     [PEQUEÑO] Dish-Syndrom.zip completado: 4 vocales /a/\n",
      "     [PEQUEÑO] GERD.zip: 42 archivos .NSP\n",
      "     [PEQUEÑO] GERD.zip completado: 12 vocales /a/\n",
      "   Completado 27/72: small\n",
      "   Completado 28/72: small\n",
      "   Completado 29/72: small\n",
      "   Completado 30/72: small\n",
      "     [PEQUEÑO] Psychogene Aphonie.zip: 14 archivos .NSP\n",
      "     [PEQUEÑO] Psychogene Aphonie.zip completado: 4 vocales /a/\n",
      "     [PEQUEÑO] Monochorditis.zip: 42 archivos .NSP\n",
      "     [PEQUEÑO] Monochorditis.zip completado: 12 vocales /a/\n",
      "   Completado 31/72: small\n",
      "   Completado 32/72: small\n",
      "     [PEQUEÑO] Mutatio.zip: 28 archivos .NSP\n",
      "     [PEQUEÑO] Mutatio.zip completado: 8 vocales /a/\n",
      "   Completado 33/72: small\n",
      "     [PEQUEÑO] Valleculacyste.zip: 14 archivos .NSP\n",
      "     [PEQUEÑO] Valleculacyste.zip completado: 4 vocales /a/\n",
      "     [PEQUEÑO] Velopharyngoplastik.zip: 28 archivos .NSP\n",
      "     [PEQUEÑO] Velopharyngoplastik.zip completado: 8 vocales /a/\n",
      "     [PEQUEÑO] Juvenile Dysphonie.zip: 14 archivos .NSP\n",
      "     [PEQUEÑO] Juvenile Dysphonie.zip completado: 4 vocales /a/\n",
      "   Completado 34/72: small\n",
      "   Completado 35/72: small\n",
      "   Completado 36/72: small\n",
      "     [PEQUEÑO] Papillom.zip: 14 archivos .NSP\n",
      "     [PEQUEÑO] Papillom.zip completado: 4 vocales /a/\n",
      "     [PEQUEÑO] Laryngozele.zip: 42 archivos .NSP\n",
      "     [PEQUEÑO] Laryngozele.zip completado: 12 vocales /a/\n",
      "     [PEQUEÑO] Dysplastische Dysphonie.zip: 14 archivos .NSP\n",
      "     [PEQUEÑO] Dysplastische Dysphonie.zip completado: 4 vocales /a/\n",
      "   Completado 37/72: small\n",
      "   Completado 38/72: small\n",
      "     [PEQUEÑO] Non-fluency-Syndrom.zip: 28 archivos .NSP\n",
      "     [PEQUEÑO] Non-fluency-Syndrom.zip completado: 8 vocales /a/\n",
      "     [PEQUEÑO] Mesopharynxtumor.zip: 14 archivos .NSP\n",
      "     [PEQUEÑO] Mesopharynxtumor.zip completado: 4 vocales /a/\n",
      "   Completado 39/72: small\n",
      "   Completado 40/72: small\n",
      "     [PEQUEÑO] Internusschwäche.zip: 14 archivos .NSP\n",
      "     [PEQUEÑO] Internusschwäche.zip completado: 4 vocales /a/\n",
      "     [PEQUEÑO] Diplophonie.zip: 70 archivos .NSP\n",
      "     [PEQUEÑO] Diplophonie.zip completado: 20 vocales /a/\n",
      "   Completado 41/72: small\n",
      "   Completado 42/72: small\n",
      "   Completado 43/72: small\n",
      "     [GRANDE] Dysarthrophonie.zip: 266 archivos .NSP\n",
      "     [GRANDE] Dysarthrophonie.zip completado: 76 vocales /a/\n",
      "     [GRANDE] Zentral-laryngale Bewegungsstörung.zip: 196 archivos .NSP\n",
      "     [GRANDE] Zentral-laryngale Bewegungsstörung.zip completado: 56 vocales /a/\n",
      "     [GRANDE] Frontolaterale Teilresektion.zip: 490 archivos .NSP\n",
      "     [GRANDE] Frontolaterale Teilresektion.zip completado: 140 vocales /a/\n",
      "   Completado 44/72: large\n",
      "     [GRANDE] Stimmlippenpolyp.zip: 630 archivos .NSP\n",
      "     [GRANDE] Stimmlippenpolyp.zip completado: 180 vocales /a/\n",
      "     [GRANDE] Taschenfaltenstimme.zip: 154 archivos .NSP\n",
      "     [GRANDE] Taschenfaltenstimme.zip completado: 44 vocales /a/\n",
      "     [GRANDE] Reinke Ödem.zip: 952 archivos .NSP\n",
      "     [GRANDE] Reinke Ödem.zip completado: 272 vocales /a/\n",
      "     [GRANDE] Phonationsknötchen.zip: 237 archivos .NSP\n",
      "     [GRANDE] Phonationsknötchen.zip completado: 68 vocales /a/\n",
      "   Completado 45/72: large\n",
      "   Completado 46/72: large\n",
      "   Completado 47/72: large\n",
      "   Completado 48/72: large\n",
      "     [GRANDE] Balbuties.zip: 277 archivos .NSP\n",
      "     [GRANDE] Balbuties.zip completado: 79 vocales /a/\n",
      "     [GRANDE] Rhinophonie aperta.zip: 240 archivos .NSP\n",
      "     [GRANDE] Rhinophonie aperta.zip completado: 68 vocales /a/\n",
      "     [GRANDE] Leukoplakie.zip: 574 archivos .NSP\n",
      "     [GRANDE] Leukoplakie.zip completado: 164 vocales /a/\n",
      "     [GRANDE] Vox senilis.zip: 548 archivos .NSP\n",
      "     [GRANDE] Vox senilis.zip completado: 156 vocales /a/\n",
      "     [GRANDE] Dysodie.zip: 784 archivos .NSP\n",
      "     [GRANDE] Dysodie.zip completado: 224 vocales /a/\n",
      "     [GRANDE] Laryngitis.zip: 1960 archivos .NSP\n",
      "     [GRANDE] Laryngitis.zip completado: 560 vocales /a/\n",
      "     [GRANDE] Funktionelle Dysphonie.zip: 1568 archivos .NSP\n",
      "     [GRANDE] Funktionelle Dysphonie.zip completado: 448 vocales /a/\n",
      "     [GRANDE] Hyperfunktionelle Dysphonie.zip: 2980 archivos .NSP\n",
      "     [GRANDE] Hyperfunktionelle Dysphonie.zip completado: 573 vocales /a/\n",
      "   Completado 49/72: large\n",
      "   Completado 50/72: large\n",
      "   Completado 51/72: large\n",
      "   Completado 52/72: large\n",
      "   Completado 53/72: large\n",
      "   Completado 54/72: large\n",
      "   Completado 55/72: large\n",
      "   Completado 56/72: large\n",
      "   Completado 57/72: large\n",
      "   Completado 58/72: large\n",
      "     [GRANDE] Spasmodische Dysphonie.zip: 896 archivos .NSP\n",
      "     [GRANDE] Spasmodische Dysphonie.zip completado: 256 vocales /a/\n",
      "     [GRANDE] Stimmlippenkarzinom.zip: 308 archivos .NSP\n",
      "     [GRANDE] Stimmlippenkarzinom.zip completado: 88 vocales /a/\n",
      "     [GRANDE] Mutationsfistelstimme.zip: 140 archivos .NSP\n",
      "     [GRANDE] Mutationsfistelstimme.zip completado: 40 vocales /a/\n",
      "     [GRANDE] Dysphonie.zip: 1414 archivos .NSP\n",
      "     [GRANDE] Dysphonie.zip completado: 404 vocales /a/\n",
      "     [GRANDE] Gesangsstimme.zip: 238 archivos .NSP\n",
      "     [GRANDE] Gesangsstimme.zip completado: 68 vocales /a/\n",
      "     [GRANDE] Rekurrensparese.zip: 2973 archivos .NSP\n",
      "     [GRANDE] Rekurrensparese.zip completado: 572 vocales /a/\n",
      "     [GRANDE] Aryluxation.zip: 84 archivos .NSP\n",
      "     [GRANDE] Aryluxation.zip completado: 24 vocales /a/\n",
      "   Completado 59/72: large\n",
      "     [GRANDE] Phonasthenie.zip: 140 archivos .NSP\n",
      "     [GRANDE] Phonasthenie.zip completado: 40 vocales /a/\n",
      "     [GRANDE] Hypofunktionelle Dysphonie.zip: 224 archivos .NSP\n",
      "     [GRANDE] Hypofunktionelle Dysphonie.zip completado: 64 vocales /a/\n",
      "     [GRANDE] Hypopharynxtumor.zip: 84 archivos .NSP\n",
      "     [GRANDE] Hypopharynxtumor.zip completado: 24 vocales /a/\n",
      "     [GRANDE] Chordektomie.zip: 826 archivos .NSP\n",
      "     [GRANDE] Chordektomie.zip completado: 236 vocales /a/\n",
      "     [GRANDE] Psychogene Dysphonie.zip: 1274 archivos .NSP\n",
      "     [GRANDE] Psychogene Dysphonie.zip completado: 364 vocales /a/\n",
      "     [GRANDE] Kontaktpachydermie.zip: 994 archivos .NSP\n",
      "     [GRANDE] Kontaktpachydermie.zip completado: 284 vocales /a/\n",
      "     [GRANDE] healthy.zip: 9565 archivos .NSP\n",
      "     [GRANDE] healthy.zip completado: 576 vocales /a/\n",
      "   Completado 60/72: large\n",
      "   Completado 61/72: large\n",
      "   Completado 62/72: large\n",
      "   Completado 63/72: large\n",
      "   Completado 64/72: large\n",
      "   Completado 65/72: large\n",
      "   Completado 66/72: large\n",
      "   Completado 67/72: large\n",
      "   Completado 68/72: large\n",
      "   Completado 69/72: large\n",
      "   Completado 70/72: large\n",
      "   Completado 71/72: large\n",
      "   Completado 72/72: large\n",
      "Procesamiento paralelo completado: 72/72 ZIPs procesados\n",
      "\n",
      "RESUMEN DE EXPLORACIÓN:\n",
      "   Total archivos: 22764\n",
      "   Archivos .NSP: 22764\n",
      "   Vocales /a/: 6508\n",
      "   Archivos healthy: 576\n",
      "   Patologías encontradas: 72\n",
      "\n",
      "PATOLOGÍAS DETECTADAS:\n",
      "   Morbus Parkinson: 4 archivos vocal /a/\n",
      "   Sängerstimme: 8 archivos vocal /a/\n",
      "   Cyste: 24 archivos vocal /a/\n",
      "   Poltersyndrom: 12 archivos vocal /a/\n",
      "   Morbus Down: 4 archivos vocal /a/\n",
      "   Kehlkopftumor: 20 archivos vocal /a/\n",
      "   Granulom: 8 archivos vocal /a/\n",
      "   Epiglottiskarzinom: 4 archivos vocal /a/\n",
      "   Mediale Halscyste: 4 archivos vocal /a/\n",
      "   Sigmatismus: 16 archivos vocal /a/\n",
      "   Rhinophonie clausa: 4 archivos vocal /a/\n",
      "   Intubationsschaden: 12 archivos vocal /a/\n",
      "   Hyperasthenie: 4 archivos vocal /a/\n",
      "   Synechie: 8 archivos vocal /a/\n",
      "   Psychogene Mikrophonie: 4 archivos vocal /a/\n",
      "   Chondrom: 4 archivos vocal /a/\n",
      "   Taschenfaltenhyperplasie: 8 archivos vocal /a/\n",
      "   Intubationsgranulom: 16 archivos vocal /a/\n",
      "   Rhinophonie mixta: 4 archivos vocal /a/\n",
      "   N. laryngeus superior Neuralgie: 12 archivos vocal /a/\n",
      "   Hypotone Dysphonie: 20 archivos vocal /a/\n",
      "   Amyotrophe Lateralsklerose: 8 archivos vocal /a/\n",
      "   Orofaciale Dyspraxie: 4 archivos vocal /a/\n",
      "   Bulbärparalyse: 8 archivos vocal /a/\n",
      "   Fibrom: 8 archivos vocal /a/\n",
      "   N. laryngeus superior Läsion: 12 archivos vocal /a/\n",
      "   Dysplastischer Kehlkopf: 4 archivos vocal /a/\n",
      "   Carcinoma in situ: 4 archivos vocal /a/\n",
      "   Dish-Syndrom: 4 archivos vocal /a/\n",
      "   GERD: 12 archivos vocal /a/\n",
      "   Psychogene Aphonie: 4 archivos vocal /a/\n",
      "   Monochorditis: 12 archivos vocal /a/\n",
      "   Mutatio: 8 archivos vocal /a/\n",
      "   Valleculacyste: 4 archivos vocal /a/\n",
      "   Velopharyngoplastik: 8 archivos vocal /a/\n",
      "   Juvenile Dysphonie: 4 archivos vocal /a/\n",
      "   Papillom: 4 archivos vocal /a/\n",
      "   Laryngozele: 12 archivos vocal /a/\n",
      "   Dysplastische Dysphonie: 4 archivos vocal /a/\n",
      "   Non-fluency-Syndrom: 8 archivos vocal /a/\n",
      "   Mesopharynxtumor: 4 archivos vocal /a/\n",
      "   Internusschwäche: 4 archivos vocal /a/\n",
      "   Diplophonie: 20 archivos vocal /a/\n",
      "   Dysarthrophonie: 76 archivos vocal /a/\n",
      "   Zentral-laryngale Bewegungsstörung: 56 archivos vocal /a/\n",
      "   Frontolaterale Teilresektion: 140 archivos vocal /a/\n",
      "   Stimmlippenpolyp: 180 archivos vocal /a/\n",
      "   Taschenfaltenstimme: 44 archivos vocal /a/\n",
      "   Reinke Ödem: 272 archivos vocal /a/\n",
      "   Phonationsknötchen: 68 archivos vocal /a/\n",
      "   Balbuties: 79 archivos vocal /a/\n",
      "   Rhinophonie aperta: 68 archivos vocal /a/\n",
      "   Leukoplakie: 164 archivos vocal /a/\n",
      "   Vox senilis: 156 archivos vocal /a/\n",
      "   Dysodie: 224 archivos vocal /a/\n",
      "   Laryngitis: 560 archivos vocal /a/\n",
      "   Funktionelle Dysphonie: 448 archivos vocal /a/\n",
      "   Hyperfunktionelle Dysphonie: 573 archivos vocal /a/\n",
      "   Spasmodische Dysphonie: 256 archivos vocal /a/\n",
      "   Stimmlippenkarzinom: 88 archivos vocal /a/\n",
      "   Mutationsfistelstimme: 40 archivos vocal /a/\n",
      "   Dysphonie: 404 archivos vocal /a/\n",
      "   Gesangsstimme: 68 archivos vocal /a/\n",
      "   Rekurrensparese: 572 archivos vocal /a/\n",
      "   Aryluxation: 24 archivos vocal /a/\n",
      "   Phonasthenie: 40 archivos vocal /a/\n",
      "   Hypofunktionelle Dysphonie: 64 archivos vocal /a/\n",
      "   Hypopharynxtumor: 24 archivos vocal /a/\n",
      "   Chordektomie: 236 archivos vocal /a/\n",
      "   Psychogene Dysphonie: 364 archivos vocal /a/\n",
      "   Kontaktpachydermie: 284 archivos vocal /a/\n",
      "   healthy: 576 archivos vocal /a/\n",
      "Estado guardado: exploration\n"
     ]
    }
   ],
   "source": [
    "# ============================================================================\n",
    "# 2. EXPLORACIÓN DE ESTRUCTURA ZIP\n",
    "# ============================================================================\n",
    "\n",
    "def process_small_zip(main_zip, nested_zip_name, stats_lock, stats):\n",
    "    \"\"\"\n",
    "    Procesa un ZIP pequeño en memoria.\n",
    "    \n",
    "    Args:\n",
    "        main_zip: ZIP principal abierto\n",
    "        nested_zip_name: Nombre del ZIP anidado\n",
    "        stats_lock: Lock para acceso thread-safe a stats\n",
    "        stats: Diccionario de estadísticas compartido\n",
    "    \"\"\"\n",
    "    try:\n",
    "        # Leer ZIP anidado\n",
    "        nested_zip_data = main_zip.read(nested_zip_name)\n",
    "        \n",
    "        with zipfile.ZipFile(io.BytesIO(nested_zip_data), 'r') as nested_zip:\n",
    "            file_list = nested_zip.namelist()\n",
    "            nsp_files = [f for f in file_list if f.endswith('.nsp')]\n",
    "            \n",
    "            print(f\"     [PEQUEÑO] {nested_zip_name}: {len(nsp_files)} archivos .NSP\")\n",
    "            \n",
    "            # Procesar archivos .NSP\n",
    "            local_stats = {\n",
    "                'total_files': 0,\n",
    "                'nsp_files': 0,\n",
    "                'vowel_a_files': 0,\n",
    "                'pathologies': {},\n",
    "                'healthy_files': 0\n",
    "            }\n",
    "            \n",
    "            for j, file_info in enumerate(nsp_files):\n",
    "                local_stats['total_files'] += 1\n",
    "                local_stats['nsp_files'] += 1\n",
    "                \n",
    "                # Verificar si es vocal /a/\n",
    "                if re.search(VOWEL_PATTERN, file_info):\n",
    "                    local_stats['vowel_a_files'] += 1\n",
    "                    \n",
    "                    # Determinar patología\n",
    "                    pathology_name = nested_zip_name.replace('.zip', '')\n",
    "                    local_stats['pathologies'][pathology_name] = local_stats['pathologies'].get(pathology_name, 0) + 1\n",
    "                    \n",
    "                    # Identificar archivos healthy\n",
    "                    if 'healthy' in pathology_name.lower():\n",
    "                        local_stats['healthy_files'] += 1\n",
    "                \n",
    "                # Límite para ZIPs pequeños\n",
    "                if j > 1000:\n",
    "                    break\n",
    "            \n",
    "            # Actualizar estadísticas globales de forma thread-safe\n",
    "            with stats_lock:\n",
    "                stats['total_files'] += local_stats['total_files']\n",
    "                stats['nsp_files'] += local_stats['nsp_files']\n",
    "                stats['vowel_a_files'] += local_stats['vowel_a_files']\n",
    "                stats['healthy_files'] += local_stats['healthy_files']\n",
    "                \n",
    "                for pathology, count in local_stats['pathologies'].items():\n",
    "                    stats['pathologies'][pathology] = stats['pathologies'].get(pathology, 0) + count\n",
    "                \n",
    "                print(f\"     [PEQUEÑO] {nested_zip_name} completado: {local_stats['vowel_a_files']} vocales /a/\")\n",
    "    \n",
    "    except Exception as e:\n",
    "        print(f\"     [PEQUEÑO] Error en {nested_zip_name}: {e}\")\n",
    "\n",
    "def process_large_zip(main_zip, nested_zip_name, temp_dir, stats_lock, stats):\n",
    "    \"\"\"\n",
    "    Procesa un ZIP grande extrayéndolo a disco.\n",
    "    \n",
    "    Args:\n",
    "        main_zip: ZIP principal abierto\n",
    "        nested_zip_name: Nombre del ZIP anidado\n",
    "        temp_dir: Directorio temporal\n",
    "        stats_lock: Lock para acceso thread-safe a stats\n",
    "        stats: Diccionario de estadísticas compartido\n",
    "    \"\"\"\n",
    "    temp_zip_dir = None\n",
    "    try:\n",
    "        # Crear directorio temporal\n",
    "        temp_zip_dir = temp_dir / f\"temp_{nested_zip_name.replace('.zip', '')}\"\n",
    "        temp_zip_dir.mkdir(parents=True, exist_ok=True)\n",
    "        \n",
    "        # Extraer ZIP a disco\n",
    "        main_zip.extract(nested_zip_name, temp_zip_dir)\n",
    "        extracted_zip_path = temp_zip_dir / nested_zip_name\n",
    "        \n",
    "        with zipfile.ZipFile(extracted_zip_path, 'r') as nested_zip:\n",
    "            file_list = nested_zip.namelist()\n",
    "            nsp_files = [f for f in file_list if f.endswith('.nsp')]\n",
    "            \n",
    "            print(f\"     [GRANDE] {nested_zip_name}: {len(nsp_files)} archivos .NSP\")\n",
    "            \n",
    "            # Procesar archivos .NSP\n",
    "            local_stats = {\n",
    "                'total_files': 0,\n",
    "                'nsp_files': 0,\n",
    "                'vowel_a_files': 0,\n",
    "                'pathologies': {},\n",
    "                'healthy_files': 0\n",
    "            }\n",
    "            \n",
    "            for j, file_info in enumerate(nsp_files):\n",
    "                local_stats['total_files'] += 1\n",
    "                local_stats['nsp_files'] += 1\n",
    "                \n",
    "                # Verificar si es vocal /a/\n",
    "                if re.search(VOWEL_PATTERN, file_info):\n",
    "                    local_stats['vowel_a_files'] += 1\n",
    "                    \n",
    "                    # Determinar patología\n",
    "                    pathology_name = nested_zip_name.replace('.zip', '')\n",
    "                    local_stats['pathologies'][pathology_name] = local_stats['pathologies'].get(pathology_name, 0) + 1\n",
    "                    \n",
    "                    # Identificar archivos healthy\n",
    "                    if 'healthy' in pathology_name.lower():\n",
    "                        local_stats['healthy_files'] += 1\n",
    "                \n",
    "                # Límite para ZIPs grandes\n",
    "                if j > 2000:\n",
    "                    break\n",
    "            \n",
    "            # Actualizar estadísticas globales de forma thread-safe\n",
    "            with stats_lock:\n",
    "                stats['total_files'] += local_stats['total_files']\n",
    "                stats['nsp_files'] += local_stats['nsp_files']\n",
    "                stats['vowel_a_files'] += local_stats['vowel_a_files']\n",
    "                stats['healthy_files'] += local_stats['healthy_files']\n",
    "                \n",
    "                for pathology, count in local_stats['pathologies'].items():\n",
    "                    stats['pathologies'][pathology] = stats['pathologies'].get(pathology, 0) + count\n",
    "                \n",
    "                print(f\"     [GRANDE] {nested_zip_name} completado: {local_stats['vowel_a_files']} vocales /a/\")\n",
    "    \n",
    "    except Exception as e:\n",
    "        print(f\"     [GRANDE] Error en {nested_zip_name}: {e}\")\n",
    "    \n",
    "    finally:\n",
    "        # Limpiar archivos temporales\n",
    "        if temp_zip_dir and temp_zip_dir.exists():\n",
    "            shutil.rmtree(temp_zip_dir, ignore_errors=True)\n",
    "\n",
    "def explore_zip_structure(zip_path: str, max_depth: int = 3) -> Dict:\n",
    "    \"\"\"\n",
    "    Explora la estructura del ZIP anidado y cuenta archivos .NSP por categoría.\n",
    "    Maneja ZIPs anidados como healthy.zip, Diplophonie.zip, etc.\n",
    "    \n",
    "    Args:\n",
    "        zip_path: Ruta al archivo ZIP principal\n",
    "        max_depth: Profundidad máxima de exploración\n",
    "        \n",
    "    Returns:\n",
    "        Diccionario con estadísticas de la estructura\n",
    "    \"\"\"\n",
    "    print(f\"[PASO 1/8] Explorando estructura del ZIP: {zip_path}\")\n",
    "    \n",
    "    stats = {\n",
    "        'total_files': 0,\n",
    "        'nsp_files': 0,\n",
    "        'vowel_a_files': 0,\n",
    "        'pathologies': {},\n",
    "        'healthy_files': 0,\n",
    "        'structure': [],\n",
    "        'nested_zips': []\n",
    "    }\n",
    "    \n",
    "    try:\n",
    "        with zipfile.ZipFile(zip_path, 'r') as main_zip:\n",
    "            print(f\"ZIP principal abierto: {len(main_zip.namelist())} archivos\")\n",
    "            \n",
    "            # Primero identificar ZIPs anidados\n",
    "            nested_zip_files = [f for f in main_zip.namelist() if f.endswith('.zip')]\n",
    "            print(f\"ZIPs anidados encontrados: {len(nested_zip_files)}\")\n",
    "            \n",
    "            # Mostrar lista de ZIPs para referencia\n",
    "            print(\"ZIPs encontrados:\")\n",
    "            for i, zip_name in enumerate(nested_zip_files[:10]):  # Mostrar solo los primeros 10\n",
    "                print(f\"   {i+1}. {zip_name}\")\n",
    "            if len(nested_zip_files) > 10:\n",
    "                print(f\"   ... y {len(nested_zip_files) - 10} más\")\n",
    "            \n",
    "            # Filtrar solo data.zip problemático, procesar todos los demás\n",
    "            filtered_zips = []\n",
    "            \n",
    "            for nested_zip_name in nested_zip_files:\n",
    "                # Saltar solo data.zip problemático\n",
    "                if nested_zip_name.lower() == 'data.zip':\n",
    "                    print(f\"   Saltando {nested_zip_name} (ZIP problemático)\")\n",
    "                    continue\n",
    "                \n",
    "                # Procesar todos los demás ZIPs\n",
    "                zip_info = main_zip.getinfo(nested_zip_name)\n",
    "                zip_size_mb = zip_info.file_size / (1024*1024)\n",
    "                filtered_zips.append((nested_zip_name, zip_size_mb))\n",
    "            \n",
    "            print(f\"ZIPs a procesar: {len(filtered_zips)}\")\n",
    "            \n",
    "            # Separar ZIPs grandes y pequeños\n",
    "            small_zips = [(name, size) for name, size in filtered_zips if size <= 50]\n",
    "            large_zips = [(name, size) for name, size in filtered_zips if size > 50]\n",
    "            \n",
    "            print(f\"ZIPs pequeños: {len(small_zips)}\")\n",
    "            print(f\"ZIPs grandes: {len(large_zips)}\")\n",
    "            \n",
    "            # Crear lock para acceso thread-safe a estadísticas\n",
    "            stats_lock = threading.Lock()\n",
    "            \n",
    "            # Procesar en paralelo\n",
    "            with ThreadPoolExecutor(max_workers=4) as executor:\n",
    "                futures = []\n",
    "                \n",
    "                # Procesar ZIPs pequeños (2 hilos)\n",
    "                for nested_zip_name, zip_size_mb in small_zips:\n",
    "                    print(f\"   [PEQUEÑO] Enviando {nested_zip_name} ({zip_size_mb:.1f} MB) a hilo\")\n",
    "                    future = executor.submit(process_small_zip, main_zip, nested_zip_name, stats_lock, stats)\n",
    "                    futures.append(('small', future))\n",
    "                \n",
    "                # Procesar ZIPs grandes (2 hilos)\n",
    "                for nested_zip_name, zip_size_mb in large_zips:\n",
    "                    print(f\"   [GRANDE] Enviando {nested_zip_name} ({zip_size_mb:.1f} MB) a hilo\")\n",
    "                    future = executor.submit(process_large_zip, main_zip, nested_zip_name, TEMP_DIR, stats_lock, stats)\n",
    "                    futures.append(('large', future))\n",
    "                \n",
    "                # Esperar a que terminen todos los hilos\n",
    "                print(f\"\\nProcesando {len(futures)} ZIPs en paralelo...\")\n",
    "                completed = 0\n",
    "                \n",
    "                for zip_type, future in futures:\n",
    "                    try:\n",
    "                        future.result()  # Esperar a que termine\n",
    "                        completed += 1\n",
    "                        print(f\"   Completado {completed}/{len(futures)}: {zip_type}\")\n",
    "                    except Exception as e:\n",
    "                        print(f\"   Error en hilo {zip_type}: {e}\")\n",
    "                \n",
    "                print(f\"Procesamiento paralelo completado: {completed}/{len(futures)} ZIPs procesados\")\n",
    "    \n",
    "    except Exception as e:\n",
    "        print(f\"Error explorando ZIP: {e}\")\n",
    "        return None\n",
    "    \n",
    "    # Mostrar resumen\n",
    "    print(f\"\\nRESUMEN DE EXPLORACIÓN:\")\n",
    "    print(f\"   Total archivos: {stats['total_files']}\")\n",
    "    print(f\"   Archivos .NSP: {stats['nsp_files']}\")\n",
    "    print(f\"   Vocales /a/: {stats['vowel_a_files']}\")\n",
    "    print(f\"   Archivos healthy: {stats['healthy_files']}\")\n",
    "    print(f\"   Patologías encontradas: {len(stats['pathologies'])}\")\n",
    "    \n",
    "    return stats\n",
    "\n",
    "# Ejecutar exploración solo si no está completada\n",
    "if not check_step_completed('exploration'):\n",
    "    print(\"\\nIniciando exploración del ZIP...\")\n",
    "    zip_stats = explore_zip_structure(ZIP_PATH)\n",
    "    \n",
    "    if zip_stats:\n",
    "        print(f\"\\nPATOLOGÍAS DETECTADAS:\")\n",
    "        for pathology, count in zip_stats['pathologies'].items():\n",
    "            print(f\"   {pathology}: {count} archivos vocal /a/\")\n",
    "        \n",
    "        # Guardar estado\n",
    "        save_state('exploration', {'zip_stats': zip_stats})\n",
    "    else:\n",
    "        print(\"No se pudo explorar el ZIP. Verificar ruta y formato.\")\n",
    "        zip_stats = None\n",
    "else:\n",
    "    print(\"Exploración ya completada. Saltando paso...\")\n",
    "    zip_stats = {'pathologies': {}, 'vowel_a_files': 0, 'healthy_files': 0}\n"
   ]
  },
  {
   "cell_type": "code",
   "execution_count": 6,
   "metadata": {},
   "outputs": [
    {
     "name": "stdout",
     "output_type": "stream",
     "text": [
      "Estado previo encontrado: exploration\n",
      "\n",
      "Iniciando extracción...\n",
      "[PASO 2/8] Extrayendo archivos vocal /a/...\n",
      "ZIPs anidados encontrados: 73\n",
      "Saltando data.zip (ZIP problemático)\n",
      "ZIPs a procesar: 72\n",
      "Procesando ZIP anidado: Cyste.zip\n",
      "   Encontrados 24 archivos vocal /a/ en Cyste.zip\n"
     ]
    },
    {
     "name": "stderr",
     "output_type": "stream",
     "text": [
      "Extrayendo de Cyste.zip: 100%|█████████████████████████████████████████████████████████████████████████████████████████████████████████████████████████████████████████████████| 24/24 [00:00<00:00, 431.89it/s]"
     ]
    },
    {
     "name": "stdout",
     "output_type": "stream",
     "text": [
      "Procesando ZIP anidado: Poltersyndrom.zip\n"
     ]
    },
    {
     "name": "stderr",
     "output_type": "stream",
     "text": [
      "\n"
     ]
    },
    {
     "name": "stdout",
     "output_type": "stream",
     "text": [
      "   Encontrados 12 archivos vocal /a/ en Poltersyndrom.zip\n"
     ]
    },
    {
     "name": "stderr",
     "output_type": "stream",
     "text": [
      "Extrayendo de Poltersyndrom.zip: 100%|█████████████████████████████████████████████████████████████████████████████████████████████████████████████████████████████████████████| 12/12 [00:00<00:00, 307.69it/s]\n"
     ]
    },
    {
     "name": "stdout",
     "output_type": "stream",
     "text": [
      "Procesando ZIP anidado: Sängerstimme.zip\n",
      "   Encontrados 8 archivos vocal /a/ en Sängerstimme.zip\n"
     ]
    },
    {
     "name": "stderr",
     "output_type": "stream",
     "text": [
      "Extrayendo de Sängerstimme.zip: 100%|███████████████████████████████████████████████████████████████████████████████████████████████████████████████████████████████████████████| 8/8 [00:00<00:00, 275.86it/s]\n"
     ]
    },
    {
     "name": "stdout",
     "output_type": "stream",
     "text": [
      "Procesando ZIP anidado: Frontolaterale Teilresektion.zip\n",
      "   Encontrados 140 archivos vocal /a/ en Frontolaterale Teilresektion.zip\n"
     ]
    },
    {
     "name": "stderr",
     "output_type": "stream",
     "text": [
      "Extrayendo de Frontolaterale Teilresektion.zip: 100%|████████████████████████████████████████████████████████████████████████████████████████████████████████████████████████| 140/140 [00:00<00:00, 383.41it/s]\n"
     ]
    },
    {
     "name": "stdout",
     "output_type": "stream",
     "text": [
      "Procesando ZIP anidado: Morbus Parkinson.zip\n",
      "   Encontrados 4 archivos vocal /a/ en Morbus Parkinson.zip\n"
     ]
    },
    {
     "name": "stderr",
     "output_type": "stream",
     "text": [
      "Extrayendo de Morbus Parkinson.zip: 100%|█████████████████████████████████████████████████████████████████████████████████████████████████████████████████████████████████████████| 4/4 [00:00<00:00, 78.43it/s]\n"
     ]
    },
    {
     "name": "stdout",
     "output_type": "stream",
     "text": [
      "Procesando ZIP anidado: Kehlkopftumor.zip\n",
      "   Encontrados 20 archivos vocal /a/ en Kehlkopftumor.zip\n"
     ]
    },
    {
     "name": "stderr",
     "output_type": "stream",
     "text": [
      "Extrayendo de Kehlkopftumor.zip: 100%|█████████████████████████████████████████████████████████████████████████████████████████████████████████████████████████████████████████| 20/20 [00:00<00:00, 453.98it/s]"
     ]
    },
    {
     "name": "stdout",
     "output_type": "stream",
     "text": [
      "Procesando ZIP anidado: Sigmatismus.zip\n"
     ]
    },
    {
     "name": "stderr",
     "output_type": "stream",
     "text": [
      "\n"
     ]
    },
    {
     "name": "stdout",
     "output_type": "stream",
     "text": [
      "   Encontrados 16 archivos vocal /a/ en Sigmatismus.zip\n"
     ]
    },
    {
     "name": "stderr",
     "output_type": "stream",
     "text": [
      "Extrayendo de Sigmatismus.zip: 100%|███████████████████████████████████████████████████████████████████████████████████████████████████████████████████████████████████████████| 16/16 [00:00<00:00, 362.18it/s]\n"
     ]
    },
    {
     "name": "stdout",
     "output_type": "stream",
     "text": [
      "Procesando ZIP anidado: Reinke Ödem.zip\n",
      "   Encontrados 272 archivos vocal /a/ en Reinke Ödem.zip\n"
     ]
    },
    {
     "name": "stderr",
     "output_type": "stream",
     "text": [
      "Extrayendo de Reinke Ödem.zip: 100%|████████████████████████████████████████████████████████████████████████████████████████████████████████████████████████████████████████| 272/272 [00:00<00:00, 372.73it/s]\n"
     ]
    },
    {
     "name": "stdout",
     "output_type": "stream",
     "text": [
      "Procesando ZIP anidado: Granulom.zip\n",
      "   Encontrados 8 archivos vocal /a/ en Granulom.zip\n"
     ]
    },
    {
     "name": "stderr",
     "output_type": "stream",
     "text": [
      "Extrayendo de Granulom.zip: 100%|█████████████████████████████████████████████████████████████████████████████████████████████████████████████████████████████████████████████████| 8/8 [00:00<00:00, 77.68it/s]\n"
     ]
    },
    {
     "name": "stdout",
     "output_type": "stream",
     "text": [
      "Procesando ZIP anidado: Morbus Down.zip\n",
      "   Encontrados 4 archivos vocal /a/ en Morbus Down.zip\n"
     ]
    },
    {
     "name": "stderr",
     "output_type": "stream",
     "text": [
      "Extrayendo de Morbus Down.zip: 100%|█████████████████████████████████████████████████████████████████████████████████████████████████████████████████████████████████████████████| 4/4 [00:00<00:00, 363.60it/s]"
     ]
    },
    {
     "name": "stdout",
     "output_type": "stream",
     "text": [
      "Procesando ZIP anidado: Dysarthrophonie.zip\n"
     ]
    },
    {
     "name": "stderr",
     "output_type": "stream",
     "text": [
      "\n"
     ]
    },
    {
     "name": "stdout",
     "output_type": "stream",
     "text": [
      "   Encontrados 76 archivos vocal /a/ en Dysarthrophonie.zip\n"
     ]
    },
    {
     "name": "stderr",
     "output_type": "stream",
     "text": [
      "Extrayendo de Dysarthrophonie.zip: 100%|███████████████████████████████████████████████████████████████████████████████████████████████████████████████████████████████████████| 76/76 [00:00<00:00, 412.51it/s]\n"
     ]
    },
    {
     "name": "stdout",
     "output_type": "stream",
     "text": [
      "Procesando ZIP anidado: Epiglottiskarzinom.zip\n",
      "   Encontrados 4 archivos vocal /a/ en Epiglottiskarzinom.zip\n"
     ]
    },
    {
     "name": "stderr",
     "output_type": "stream",
     "text": [
      "Extrayendo de Epiglottiskarzinom.zip: 100%|██████████████████████████████████████████████████████████████████████████████████████████████████████████████████████████████████████| 4/4 [00:00<00:00, 188.94it/s]\n"
     ]
    },
    {
     "name": "stdout",
     "output_type": "stream",
     "text": [
      "Procesando ZIP anidado: Mediale Halscyste.zip\n",
      "   Encontrados 4 archivos vocal /a/ en Mediale Halscyste.zip\n"
     ]
    },
    {
     "name": "stderr",
     "output_type": "stream",
     "text": [
      "Extrayendo de Mediale Halscyste.zip: 100%|███████████████████████████████████████████████████████████████████████████████████████████████████████████████████████████████████████| 4/4 [00:00<00:00, 333.17it/s]\n"
     ]
    },
    {
     "name": "stdout",
     "output_type": "stream",
     "text": [
      "Procesando ZIP anidado: Intubationsschaden.zip\n",
      "   Encontrados 12 archivos vocal /a/ en Intubationsschaden.zip\n"
     ]
    },
    {
     "name": "stderr",
     "output_type": "stream",
     "text": [
      "Extrayendo de Intubationsschaden.zip: 100%|████████████████████████████████████████████████████████████████████████████████████████████████████████████████████████████████████| 12/12 [00:00<00:00, 360.82it/s]\n"
     ]
    },
    {
     "name": "stdout",
     "output_type": "stream",
     "text": [
      "Procesando ZIP anidado: Rhinophonie clausa.zip\n",
      "   Encontrados 4 archivos vocal /a/ en Rhinophonie clausa.zip\n"
     ]
    },
    {
     "name": "stderr",
     "output_type": "stream",
     "text": [
      "Extrayendo de Rhinophonie clausa.zip: 100%|██████████████████████████████████████████████████████████████████████████████████████████████████████████████████████████████████████| 4/4 [00:00<00:00, 266.64it/s]"
     ]
    },
    {
     "name": "stdout",
     "output_type": "stream",
     "text": [
      "Procesando ZIP anidado: Synechie.zip\n"
     ]
    },
    {
     "name": "stderr",
     "output_type": "stream",
     "text": [
      "\n"
     ]
    },
    {
     "name": "stdout",
     "output_type": "stream",
     "text": [
      "   Encontrados 8 archivos vocal /a/ en Synechie.zip\n"
     ]
    },
    {
     "name": "stderr",
     "output_type": "stream",
     "text": [
      "Extrayendo de Synechie.zip: 100%|████████████████████████████████████████████████████████████████████████████████████████████████████████████████████████████████████████████████| 8/8 [00:00<00:00, 281.88it/s]\n"
     ]
    },
    {
     "name": "stdout",
     "output_type": "stream",
     "text": [
      "Procesando ZIP anidado: Taschenfaltenhyperplasie.zip\n",
      "   Encontrados 8 archivos vocal /a/ en Taschenfaltenhyperplasie.zip\n"
     ]
    },
    {
     "name": "stderr",
     "output_type": "stream",
     "text": [
      "Extrayendo de Taschenfaltenhyperplasie.zip: 100%|████████████████████████████████████████████████████████████████████████████████████████████████████████████████████████████████| 8/8 [00:00<00:00, 266.28it/s]\n"
     ]
    },
    {
     "name": "stdout",
     "output_type": "stream",
     "text": [
      "Procesando ZIP anidado: Stimmlippenpolyp.zip\n",
      "   Encontrados 180 archivos vocal /a/ en Stimmlippenpolyp.zip\n"
     ]
    },
    {
     "name": "stderr",
     "output_type": "stream",
     "text": [
      "Extrayendo de Stimmlippenpolyp.zip: 100%|████████████████████████████████████████████████████████████████████████████████████████████████████████████████████████████████████| 180/180 [00:00<00:00, 393.61it/s]\n"
     ]
    },
    {
     "name": "stdout",
     "output_type": "stream",
     "text": [
      "Procesando ZIP anidado: Psychogene Mikrophonie.zip\n",
      "   Encontrados 4 archivos vocal /a/ en Psychogene Mikrophonie.zip\n"
     ]
    },
    {
     "name": "stderr",
     "output_type": "stream",
     "text": [
      "Extrayendo de Psychogene Mikrophonie.zip: 100%|███████████████████████████████████████████████████████████████████████████████████████████████████████████████████████████████████| 4/4 [00:00<00:00, 59.70it/s]\n"
     ]
    },
    {
     "name": "stdout",
     "output_type": "stream",
     "text": [
      "Procesando ZIP anidado: Hyperasthenie.zip\n",
      "   Encontrados 4 archivos vocal /a/ en Hyperasthenie.zip\n"
     ]
    },
    {
     "name": "stderr",
     "output_type": "stream",
     "text": [
      "Extrayendo de Hyperasthenie.zip: 100%|███████████████████████████████████████████████████████████████████████████████████████████████████████████████████████████████████████████| 4/4 [00:00<00:00, 222.20it/s]\n"
     ]
    },
    {
     "name": "stdout",
     "output_type": "stream",
     "text": [
      "Procesando ZIP anidado: Zentral-laryngale Bewegungsstörung.zip\n",
      "   Encontrados 56 archivos vocal /a/ en Zentral-laryngale Bewegungsstörung.zip\n"
     ]
    },
    {
     "name": "stderr",
     "output_type": "stream",
     "text": [
      "Extrayendo de Zentral-laryngale Bewegungsstörung.zip: 100%|███████████████████████████████████████████████████████████████████████████████████████████████████████████████████| 56/56 [00:00<00:00, 231.43it/s]\n"
     ]
    },
    {
     "name": "stdout",
     "output_type": "stream",
     "text": [
      "Procesando ZIP anidado: Hyperfunktionelle Dysphonie.zip\n",
      "   Encontrados 852 archivos vocal /a/ en Hyperfunktionelle Dysphonie.zip\n"
     ]
    },
    {
     "name": "stderr",
     "output_type": "stream",
     "text": [
      "Extrayendo de Hyperfunktionelle Dysphonie.zip: 100%|█████████████████████████████████████████████████████████████████████████████████████████████████████████████████████████| 852/852 [00:04<00:00, 197.47it/s]\n"
     ]
    },
    {
     "name": "stdout",
     "output_type": "stream",
     "text": [
      "Procesando ZIP anidado: Intubationsgranulom.zip\n",
      "   Encontrados 16 archivos vocal /a/ en Intubationsgranulom.zip\n"
     ]
    },
    {
     "name": "stderr",
     "output_type": "stream",
     "text": [
      "Extrayendo de Intubationsgranulom.zip: 100%|████████████████████████████████████████████████████████████████████████████████████████████████████████████████████████████████████| 16/16 [00:00<00:00, 38.99it/s]\n"
     ]
    },
    {
     "name": "stdout",
     "output_type": "stream",
     "text": [
      "Procesando ZIP anidado: Chondrom.zip\n",
      "   Encontrados 4 archivos vocal /a/ en Chondrom.zip\n"
     ]
    },
    {
     "name": "stderr",
     "output_type": "stream",
     "text": [
      "Extrayendo de Chondrom.zip: 100%|████████████████████████████████████████████████████████████████████████████████████████████████████████████████████████████████████████████████| 4/4 [00:00<00:00, 222.21it/s]\n"
     ]
    },
    {
     "name": "stdout",
     "output_type": "stream",
     "text": [
      "Procesando ZIP anidado: Taschenfaltenstimme.zip\n",
      "   Encontrados 44 archivos vocal /a/ en Taschenfaltenstimme.zip\n"
     ]
    },
    {
     "name": "stderr",
     "output_type": "stream",
     "text": [
      "Extrayendo de Taschenfaltenstimme.zip: 100%|███████████████████████████████████████████████████████████████████████████████████████████████████████████████████████████████████| 44/44 [00:00<00:00, 290.27it/s]"
     ]
    },
    {
     "name": "stdout",
     "output_type": "stream",
     "text": [
      "Procesando ZIP anidado: Phonationsknötchen.zip\n"
     ]
    },
    {
     "name": "stderr",
     "output_type": "stream",
     "text": [
      "\n"
     ]
    },
    {
     "name": "stdout",
     "output_type": "stream",
     "text": [
      "   Encontrados 68 archivos vocal /a/ en Phonationsknötchen.zip\n"
     ]
    },
    {
     "name": "stderr",
     "output_type": "stream",
     "text": [
      "Extrayendo de Phonationsknötchen.zip: 100%|███████████████████████████████████████████████████████████████████████████████████████████████████████████████████████████████████| 68/68 [00:00<00:00, 326.25it/s]\n"
     ]
    },
    {
     "name": "stdout",
     "output_type": "stream",
     "text": [
      "Procesando ZIP anidado: Hypotone Dysphonie.zip\n",
      "   Encontrados 20 archivos vocal /a/ en Hypotone Dysphonie.zip\n"
     ]
    },
    {
     "name": "stderr",
     "output_type": "stream",
     "text": [
      "Extrayendo de Hypotone Dysphonie.zip: 100%|████████████████████████████████████████████████████████████████████████████████████████████████████████████████████████████████████| 20/20 [00:00<00:00, 257.62it/s]\n"
     ]
    },
    {
     "name": "stdout",
     "output_type": "stream",
     "text": [
      "Procesando ZIP anidado: N. laryngeus superior Neuralgie.zip\n",
      "   Encontrados 12 archivos vocal /a/ en N. laryngeus superior Neuralgie.zip\n"
     ]
    },
    {
     "name": "stderr",
     "output_type": "stream",
     "text": [
      "Extrayendo de N. laryngeus superior Neuralgie.zip: 100%|███████████████████████████████████████████████████████████████████████████████████████████████████████████████████████| 12/12 [00:00<00:00, 351.92it/s]\n"
     ]
    },
    {
     "name": "stdout",
     "output_type": "stream",
     "text": [
      "Procesando ZIP anidado: Laryngitis.zip\n",
      "   Encontrados 560 archivos vocal /a/ en Laryngitis.zip\n"
     ]
    },
    {
     "name": "stderr",
     "output_type": "stream",
     "text": [
      "Extrayendo de Laryngitis.zip: 100%|██████████████████████████████████████████████████████████████████████████████████████████████████████████████████████████████████████████| 560/560 [00:01<00:00, 381.93it/s]\n"
     ]
    },
    {
     "name": "stdout",
     "output_type": "stream",
     "text": [
      "Procesando ZIP anidado: Leukoplakie.zip\n",
      "   Encontrados 164 archivos vocal /a/ en Leukoplakie.zip\n"
     ]
    },
    {
     "name": "stderr",
     "output_type": "stream",
     "text": [
      "Extrayendo de Leukoplakie.zip: 100%|█████████████████████████████████████████████████████████████████████████████████████████████████████████████████████████████████████████| 164/164 [00:00<00:00, 264.77it/s]\n"
     ]
    },
    {
     "name": "stdout",
     "output_type": "stream",
     "text": [
      "Procesando ZIP anidado: Balbuties.zip\n",
      "   Encontrados 79 archivos vocal /a/ en Balbuties.zip\n"
     ]
    },
    {
     "name": "stderr",
     "output_type": "stream",
     "text": [
      "Extrayendo de Balbuties.zip: 100%|█████████████████████████████████████████████████████████████████████████████████████████████████████████████████████████████████████████████| 79/79 [00:00<00:00, 141.28it/s]\n"
     ]
    },
    {
     "name": "stdout",
     "output_type": "stream",
     "text": [
      "Procesando ZIP anidado: Rhinophonie aperta.zip\n",
      "   Encontrados 68 archivos vocal /a/ en Rhinophonie aperta.zip\n"
     ]
    },
    {
     "name": "stderr",
     "output_type": "stream",
     "text": [
      "Extrayendo de Rhinophonie aperta.zip: 100%|████████████████████████████████████████████████████████████████████████████████████████████████████████████████████████████████████| 68/68 [00:00<00:00, 190.58it/s]\n"
     ]
    },
    {
     "name": "stdout",
     "output_type": "stream",
     "text": [
      "Procesando ZIP anidado: Rhinophonie mixta.zip\n",
      "   Encontrados 4 archivos vocal /a/ en Rhinophonie mixta.zip\n"
     ]
    },
    {
     "name": "stderr",
     "output_type": "stream",
     "text": [
      "Extrayendo de Rhinophonie mixta.zip: 100%|████████████████████████████████████████████████████████████████████████████████████████████████████████████████████████████████████████| 4/4 [00:00<00:00, 88.88it/s]\n"
     ]
    },
    {
     "name": "stdout",
     "output_type": "stream",
     "text": [
      "Procesando ZIP anidado: Vox senilis.zip\n",
      "   Encontrados 156 archivos vocal /a/ en Vox senilis.zip\n"
     ]
    },
    {
     "name": "stderr",
     "output_type": "stream",
     "text": [
      "Extrayendo de Vox senilis.zip: 100%|█████████████████████████████████████████████████████████████████████████████████████████████████████████████████████████████████████████| 156/156 [00:00<00:00, 322.18it/s]\n"
     ]
    },
    {
     "name": "stdout",
     "output_type": "stream",
     "text": [
      "Procesando ZIP anidado: Amyotrophe Lateralsklerose.zip\n",
      "   Encontrados 8 archivos vocal /a/ en Amyotrophe Lateralsklerose.zip\n"
     ]
    },
    {
     "name": "stderr",
     "output_type": "stream",
     "text": [
      "Extrayendo de Amyotrophe Lateralsklerose.zip: 100%|██████████████████████████████████████████████████████████████████████████████████████████████████████████████████████████████| 8/8 [00:00<00:00, 107.70it/s]\n"
     ]
    },
    {
     "name": "stdout",
     "output_type": "stream",
     "text": [
      "Procesando ZIP anidado: Dysodie.zip\n",
      "   Encontrados 224 archivos vocal /a/ en Dysodie.zip\n"
     ]
    },
    {
     "name": "stderr",
     "output_type": "stream",
     "text": [
      "Extrayendo de Dysodie.zip: 100%|█████████████████████████████████████████████████████████████████████████████████████████████████████████████████████████████████████████████| 224/224 [00:00<00:00, 276.19it/s]\n"
     ]
    },
    {
     "name": "stdout",
     "output_type": "stream",
     "text": [
      "Procesando ZIP anidado: Bulbärparalyse.zip\n",
      "   Encontrados 8 archivos vocal /a/ en Bulbärparalyse.zip\n"
     ]
    },
    {
     "name": "stderr",
     "output_type": "stream",
     "text": [
      "Extrayendo de Bulbärparalyse.zip: 100%|██████████████████████████████████████████████████████████████████████████████████████████████████████████████████████████████████████████| 8/8 [00:00<00:00, 71.84it/s]\n"
     ]
    },
    {
     "name": "stdout",
     "output_type": "stream",
     "text": [
      "Procesando ZIP anidado: Funktionelle Dysphonie.zip\n",
      "   Encontrados 448 archivos vocal /a/ en Funktionelle Dysphonie.zip\n"
     ]
    },
    {
     "name": "stderr",
     "output_type": "stream",
     "text": [
      "Extrayendo de Funktionelle Dysphonie.zip: 100%|██████████████████████████████████████████████████████████████████████████████████████████████████████████████████████████████| 448/448 [00:01<00:00, 381.13it/s]\n"
     ]
    },
    {
     "name": "stdout",
     "output_type": "stream",
     "text": [
      "Procesando ZIP anidado: Rekurrensparese.zip\n",
      "   Encontrados 849 archivos vocal /a/ en Rekurrensparese.zip\n"
     ]
    },
    {
     "name": "stderr",
     "output_type": "stream",
     "text": [
      "Extrayendo de Rekurrensparese.zip: 100%|█████████████████████████████████████████████████████████████████████████████████████████████████████████████████████████████████████| 849/849 [00:04<00:00, 207.54it/s]\n"
     ]
    },
    {
     "name": "stdout",
     "output_type": "stream",
     "text": [
      "Procesando ZIP anidado: Orofaciale Dyspraxie.zip\n",
      "   Encontrados 4 archivos vocal /a/ en Orofaciale Dyspraxie.zip\n"
     ]
    },
    {
     "name": "stderr",
     "output_type": "stream",
     "text": [
      "Extrayendo de Orofaciale Dyspraxie.zip: 100%|█████████████████████████████████████████████████████████████████████████████████████████████████████████████████████████████████████| 4/4 [00:00<00:00, 11.02it/s]\n"
     ]
    },
    {
     "name": "stdout",
     "output_type": "stream",
     "text": [
      "Procesando ZIP anidado: healthy.zip\n",
      "   Encontrados 2748 archivos vocal /a/ en healthy.zip\n"
     ]
    },
    {
     "name": "stderr",
     "output_type": "stream",
     "text": [
      "Extrayendo de healthy.zip: 100%|███████████████████████████████████████████████████████████████████████████████████████████████████████████████████████████████████████████| 2748/2748 [00:11<00:00, 233.27it/s]\n"
     ]
    },
    {
     "name": "stdout",
     "output_type": "stream",
     "text": [
      "Procesando ZIP anidado: Spasmodische Dysphonie.zip\n",
      "   Encontrados 256 archivos vocal /a/ en Spasmodische Dysphonie.zip\n"
     ]
    },
    {
     "name": "stderr",
     "output_type": "stream",
     "text": [
      "Extrayendo de Spasmodische Dysphonie.zip: 100%|██████████████████████████████████████████████████████████████████████████████████████████████████████████████████████████████| 256/256 [00:01<00:00, 131.76it/s]\n"
     ]
    },
    {
     "name": "stdout",
     "output_type": "stream",
     "text": [
      "Procesando ZIP anidado: Dysphonie.zip\n",
      "   Encontrados 404 archivos vocal /a/ en Dysphonie.zip\n"
     ]
    },
    {
     "name": "stderr",
     "output_type": "stream",
     "text": [
      "Extrayendo de Dysphonie.zip: 100%|███████████████████████████████████████████████████████████████████████████████████████████████████████████████████████████████████████████| 404/404 [00:01<00:00, 282.15it/s]\n"
     ]
    },
    {
     "name": "stdout",
     "output_type": "stream",
     "text": [
      "Procesando ZIP anidado: Stimmlippenkarzinom.zip\n",
      "   Encontrados 88 archivos vocal /a/ en Stimmlippenkarzinom.zip\n"
     ]
    },
    {
     "name": "stderr",
     "output_type": "stream",
     "text": [
      "Extrayendo de Stimmlippenkarzinom.zip: 100%|███████████████████████████████████████████████████████████████████████████████████████████████████████████████████████████████████| 88/88 [00:00<00:00, 185.78it/s]\n"
     ]
    },
    {
     "name": "stdout",
     "output_type": "stream",
     "text": [
      "Procesando ZIP anidado: Mutationsfistelstimme.zip\n",
      "   Encontrados 40 archivos vocal /a/ en Mutationsfistelstimme.zip\n"
     ]
    },
    {
     "name": "stderr",
     "output_type": "stream",
     "text": [
      "Extrayendo de Mutationsfistelstimme.zip: 100%|█████████████████████████████████████████████████████████████████████████████████████████████████████████████████████████████████| 40/40 [00:00<00:00, 226.85it/s]"
     ]
    },
    {
     "name": "stdout",
     "output_type": "stream",
     "text": [
      "Procesando ZIP anidado: N. laryngeus superior Läsion.zip\n"
     ]
    },
    {
     "name": "stderr",
     "output_type": "stream",
     "text": [
      "\n"
     ]
    },
    {
     "name": "stdout",
     "output_type": "stream",
     "text": [
      "   Encontrados 12 archivos vocal /a/ en N. laryngeus superior Läsion.zip\n"
     ]
    },
    {
     "name": "stderr",
     "output_type": "stream",
     "text": [
      "Extrayendo de N. laryngeus superior Läsion.zip: 100%|█████████████████████████████████████████████████████████████████████████████████████████████████████████████████████████| 12/12 [00:00<00:00, 224.75it/s]\n"
     ]
    },
    {
     "name": "stdout",
     "output_type": "stream",
     "text": [
      "Procesando ZIP anidado: Fibrom.zip\n",
      "   Encontrados 8 archivos vocal /a/ en Fibrom.zip\n"
     ]
    },
    {
     "name": "stderr",
     "output_type": "stream",
     "text": [
      "Extrayendo de Fibrom.zip: 100%|██████████████████████████████████████████████████████████████████████████████████████████████████████████████████████████████████████████████████| 8/8 [00:00<00:00, 222.23it/s]"
     ]
    },
    {
     "name": "stdout",
     "output_type": "stream",
     "text": [
      "Procesando ZIP anidado: GERD.zip\n"
     ]
    },
    {
     "name": "stderr",
     "output_type": "stream",
     "text": [
      "\n"
     ]
    },
    {
     "name": "stdout",
     "output_type": "stream",
     "text": [
      "   Encontrados 12 archivos vocal /a/ en GERD.zip\n"
     ]
    },
    {
     "name": "stderr",
     "output_type": "stream",
     "text": [
      "Extrayendo de GERD.zip: 100%|██████████████████████████████████████████████████████████████████████████████████████████████████████████████████████████████████████████████████| 12/12 [00:00<00:00, 222.23it/s]\n"
     ]
    },
    {
     "name": "stdout",
     "output_type": "stream",
     "text": [
      "Procesando ZIP anidado: Dysplastischer Kehlkopf.zip\n",
      "   Encontrados 4 archivos vocal /a/ en Dysplastischer Kehlkopf.zip\n"
     ]
    },
    {
     "name": "stderr",
     "output_type": "stream",
     "text": [
      "Extrayendo de Dysplastischer Kehlkopf.zip: 100%|█████████████████████████████████████████████████████████████████████████████████████████████████████████████████████████████████| 4/4 [00:00<00:00, 200.03it/s]\n"
     ]
    },
    {
     "name": "stdout",
     "output_type": "stream",
     "text": [
      "Procesando ZIP anidado: Carcinoma in situ.zip\n",
      "   Encontrados 4 archivos vocal /a/ en Carcinoma in situ.zip\n"
     ]
    },
    {
     "name": "stderr",
     "output_type": "stream",
     "text": [
      "Extrayendo de Carcinoma in situ.zip: 100%|███████████████████████████████████████████████████████████████████████████████████████████████████████████████████████████████████████| 4/4 [00:00<00:00, 235.31it/s]\n"
     ]
    },
    {
     "name": "stdout",
     "output_type": "stream",
     "text": [
      "Procesando ZIP anidado: Dish-Syndrom.zip\n",
      "   Encontrados 4 archivos vocal /a/ en Dish-Syndrom.zip\n"
     ]
    },
    {
     "name": "stderr",
     "output_type": "stream",
     "text": [
      "Extrayendo de Dish-Syndrom.zip: 100%|████████████████████████████████████████████████████████████████████████████████████████████████████████████████████████████████████████████| 4/4 [00:00<00:00, 235.31it/s]\n"
     ]
    },
    {
     "name": "stdout",
     "output_type": "stream",
     "text": [
      "Procesando ZIP anidado: Gesangsstimme.zip\n",
      "   Encontrados 68 archivos vocal /a/ en Gesangsstimme.zip\n"
     ]
    },
    {
     "name": "stderr",
     "output_type": "stream",
     "text": [
      "Extrayendo de Gesangsstimme.zip: 100%|█████████████████████████████████████████████████████████████████████████████████████████████████████████████████████████████████████████| 68/68 [00:00<00:00, 296.06it/s]\n"
     ]
    },
    {
     "name": "stdout",
     "output_type": "stream",
     "text": [
      "Procesando ZIP anidado: Monochorditis.zip\n",
      "   Encontrados 12 archivos vocal /a/ en Monochorditis.zip\n"
     ]
    },
    {
     "name": "stderr",
     "output_type": "stream",
     "text": [
      "Extrayendo de Monochorditis.zip: 100%|█████████████████████████████████████████████████████████████████████████████████████████████████████████████████████████████████████████| 12/12 [00:00<00:00, 193.40it/s]\n"
     ]
    },
    {
     "name": "stdout",
     "output_type": "stream",
     "text": [
      "Procesando ZIP anidado: Psychogene Aphonie.zip\n",
      "   Encontrados 4 archivos vocal /a/ en Psychogene Aphonie.zip\n"
     ]
    },
    {
     "name": "stderr",
     "output_type": "stream",
     "text": [
      "Extrayendo de Psychogene Aphonie.zip: 100%|██████████████████████████████████████████████████████████████████████████████████████████████████████████████████████████████████████| 4/4 [00:00<00:00, 186.39it/s]\n"
     ]
    },
    {
     "name": "stdout",
     "output_type": "stream",
     "text": [
      "Procesando ZIP anidado: Mutatio.zip\n",
      "   Encontrados 8 archivos vocal /a/ en Mutatio.zip\n"
     ]
    },
    {
     "name": "stderr",
     "output_type": "stream",
     "text": [
      "Extrayendo de Mutatio.zip: 100%|█████████████████████████████████████████████████████████████████████████████████████████████████████████████████████████████████████████████████| 8/8 [00:00<00:00, 258.06it/s]"
     ]
    },
    {
     "name": "stdout",
     "output_type": "stream",
     "text": [
      "Procesando ZIP anidado: Psychogene Dysphonie.zip\n"
     ]
    },
    {
     "name": "stderr",
     "output_type": "stream",
     "text": [
      "\n"
     ]
    },
    {
     "name": "stdout",
     "output_type": "stream",
     "text": [
      "   Encontrados 364 archivos vocal /a/ en Psychogene Dysphonie.zip\n"
     ]
    },
    {
     "name": "stderr",
     "output_type": "stream",
     "text": [
      "Extrayendo de Psychogene Dysphonie.zip: 100%|████████████████████████████████████████████████████████████████████████████████████████████████████████████████████████████████| 364/364 [00:01<00:00, 342.94it/s]\n"
     ]
    },
    {
     "name": "stdout",
     "output_type": "stream",
     "text": [
      "Procesando ZIP anidado: Velopharyngoplastik.zip\n",
      "   Encontrados 8 archivos vocal /a/ en Velopharyngoplastik.zip\n"
     ]
    },
    {
     "name": "stderr",
     "output_type": "stream",
     "text": [
      "Extrayendo de Velopharyngoplastik.zip: 100%|██████████████████████████████████████████████████████████████████████████████████████████████████████████████████████████████████████| 8/8 [00:00<00:00, 62.76it/s]\n"
     ]
    },
    {
     "name": "stdout",
     "output_type": "stream",
     "text": [
      "Procesando ZIP anidado: Valleculacyste.zip\n",
      "   Encontrados 4 archivos vocal /a/ en Valleculacyste.zip\n"
     ]
    },
    {
     "name": "stderr",
     "output_type": "stream",
     "text": [
      "Extrayendo de Valleculacyste.zip: 100%|██████████████████████████████████████████████████████████████████████████████████████████████████████████████████████████████████████████| 4/4 [00:00<00:00, 235.46it/s]\n"
     ]
    },
    {
     "name": "stdout",
     "output_type": "stream",
     "text": [
      "Procesando ZIP anidado: Juvenile Dysphonie.zip\n",
      "   Encontrados 4 archivos vocal /a/ en Juvenile Dysphonie.zip\n"
     ]
    },
    {
     "name": "stderr",
     "output_type": "stream",
     "text": [
      "Extrayendo de Juvenile Dysphonie.zip: 100%|██████████████████████████████████████████████████████████████████████████████████████████████████████████████████████████████████████| 4/4 [00:00<00:00, 254.65it/s]\n"
     ]
    },
    {
     "name": "stdout",
     "output_type": "stream",
     "text": [
      "Procesando ZIP anidado: Laryngozele.zip\n",
      "   Encontrados 12 archivos vocal /a/ en Laryngozele.zip\n"
     ]
    },
    {
     "name": "stderr",
     "output_type": "stream",
     "text": [
      "Extrayendo de Laryngozele.zip: 100%|███████████████████████████████████████████████████████████████████████████████████████████████████████████████████████████████████████████| 12/12 [00:00<00:00, 266.65it/s]\n"
     ]
    },
    {
     "name": "stdout",
     "output_type": "stream",
     "text": [
      "Procesando ZIP anidado: Aryluxation.zip\n",
      "   Encontrados 24 archivos vocal /a/ en Aryluxation.zip\n"
     ]
    },
    {
     "name": "stderr",
     "output_type": "stream",
     "text": [
      "Extrayendo de Aryluxation.zip: 100%|███████████████████████████████████████████████████████████████████████████████████████████████████████████████████████████████████████████| 24/24 [00:00<00:00, 302.35it/s]\n"
     ]
    },
    {
     "name": "stdout",
     "output_type": "stream",
     "text": [
      "Procesando ZIP anidado: Dysplastische Dysphonie.zip\n",
      "   Encontrados 4 archivos vocal /a/ en Dysplastische Dysphonie.zip\n"
     ]
    },
    {
     "name": "stderr",
     "output_type": "stream",
     "text": [
      "Extrayendo de Dysplastische Dysphonie.zip: 100%|█████████████████████████████████████████████████████████████████████████████████████████████████████████████████████████████████| 4/4 [00:00<00:00, 181.06it/s]\n"
     ]
    },
    {
     "name": "stdout",
     "output_type": "stream",
     "text": [
      "Procesando ZIP anidado: Non-fluency-Syndrom.zip\n",
      "   Encontrados 8 archivos vocal /a/ en Non-fluency-Syndrom.zip\n"
     ]
    },
    {
     "name": "stderr",
     "output_type": "stream",
     "text": [
      "Extrayendo de Non-fluency-Syndrom.zip: 100%|█████████████████████████████████████████████████████████████████████████████████████████████████████████████████████████████████████| 8/8 [00:00<00:00, 266.66it/s]"
     ]
    },
    {
     "name": "stdout",
     "output_type": "stream",
     "text": [
      "Procesando ZIP anidado: Chordektomie.zip\n"
     ]
    },
    {
     "name": "stderr",
     "output_type": "stream",
     "text": [
      "\n"
     ]
    },
    {
     "name": "stdout",
     "output_type": "stream",
     "text": [
      "   Encontrados 236 archivos vocal /a/ en Chordektomie.zip\n"
     ]
    },
    {
     "name": "stderr",
     "output_type": "stream",
     "text": [
      "Extrayendo de Chordektomie.zip: 100%|████████████████████████████████████████████████████████████████████████████████████████████████████████████████████████████████████████| 236/236 [00:00<00:00, 292.40it/s]\n"
     ]
    },
    {
     "name": "stdout",
     "output_type": "stream",
     "text": [
      "Procesando ZIP anidado: Phonasthenie.zip\n",
      "   Encontrados 40 archivos vocal /a/ en Phonasthenie.zip\n"
     ]
    },
    {
     "name": "stderr",
     "output_type": "stream",
     "text": [
      "Extrayendo de Phonasthenie.zip: 100%|██████████████████████████████████████████████████████████████████████████████████████████████████████████████████████████████████████████| 40/40 [00:00<00:00, 205.50it/s]\n"
     ]
    },
    {
     "name": "stdout",
     "output_type": "stream",
     "text": [
      "Procesando ZIP anidado: Papillom.zip\n",
      "   Encontrados 4 archivos vocal /a/ en Papillom.zip\n"
     ]
    },
    {
     "name": "stderr",
     "output_type": "stream",
     "text": [
      "Extrayendo de Papillom.zip: 100%|████████████████████████████████████████████████████████████████████████████████████████████████████████████████████████████████████████████████| 4/4 [00:00<00:00, 159.71it/s]\n"
     ]
    },
    {
     "name": "stdout",
     "output_type": "stream",
     "text": [
      "Procesando ZIP anidado: Diplophonie.zip\n",
      "   Encontrados 20 archivos vocal /a/ en Diplophonie.zip\n"
     ]
    },
    {
     "name": "stderr",
     "output_type": "stream",
     "text": [
      "Extrayendo de Diplophonie.zip: 100%|███████████████████████████████████████████████████████████████████████████████████████████████████████████████████████████████████████████| 20/20 [00:00<00:00, 276.67it/s]\n"
     ]
    },
    {
     "name": "stdout",
     "output_type": "stream",
     "text": [
      "Procesando ZIP anidado: Mesopharynxtumor.zip\n",
      "   Encontrados 4 archivos vocal /a/ en Mesopharynxtumor.zip\n"
     ]
    },
    {
     "name": "stderr",
     "output_type": "stream",
     "text": [
      "Extrayendo de Mesopharynxtumor.zip: 100%|████████████████████████████████████████████████████████████████████████████████████████████████████████████████████████████████████████| 4/4 [00:00<00:00, 141.38it/s]\n"
     ]
    },
    {
     "name": "stdout",
     "output_type": "stream",
     "text": [
      "Procesando ZIP anidado: Hypofunktionelle Dysphonie.zip\n",
      "   Encontrados 64 archivos vocal /a/ en Hypofunktionelle Dysphonie.zip\n"
     ]
    },
    {
     "name": "stderr",
     "output_type": "stream",
     "text": [
      "Extrayendo de Hypofunktionelle Dysphonie.zip: 100%|████████████████████████████████████████████████████████████████████████████████████████████████████████████████████████████| 64/64 [00:00<00:00, 247.23it/s]\n"
     ]
    },
    {
     "name": "stdout",
     "output_type": "stream",
     "text": [
      "Procesando ZIP anidado: Hypopharynxtumor.zip\n",
      "   Encontrados 24 archivos vocal /a/ en Hypopharynxtumor.zip\n"
     ]
    },
    {
     "name": "stderr",
     "output_type": "stream",
     "text": [
      "Extrayendo de Hypopharynxtumor.zip: 100%|██████████████████████████████████████████████████████████████████████████████████████████████████████████████████████████████████████| 24/24 [00:00<00:00, 202.50it/s]\n"
     ]
    },
    {
     "name": "stdout",
     "output_type": "stream",
     "text": [
      "Procesando ZIP anidado: Internusschwäche.zip\n",
      "   Encontrados 4 archivos vocal /a/ en Internusschwäche.zip\n"
     ]
    },
    {
     "name": "stderr",
     "output_type": "stream",
     "text": [
      "Extrayendo de Internusschwäche.zip: 100%|███████████████████████████████████████████████████████████████████████████████████████████████████████████████████████████████████████| 4/4 [00:00<00:00, 154.33it/s]\n"
     ]
    },
    {
     "name": "stdout",
     "output_type": "stream",
     "text": [
      "Procesando ZIP anidado: Kontaktpachydermie.zip\n",
      "   Encontrados 284 archivos vocal /a/ en Kontaktpachydermie.zip\n"
     ]
    },
    {
     "name": "stderr",
     "output_type": "stream",
     "text": [
      "Extrayendo de Kontaktpachydermie.zip: 100%|██████████████████████████████████████████████████████████████████████████████████████████████████████████████████████████████████| 284/284 [00:01<00:00, 252.19it/s]\n"
     ]
    },
    {
     "name": "stdout",
     "output_type": "stream",
     "text": [
      "\n",
      "ARCHIVOS EXTRAÍDOS:\n",
      "   Total: 9236\n",
      "   Healthy: 2748\n",
      "   Pathological: 6488\n",
      "   Tamaño total: 1023.6 MB\n",
      "\n",
      "DISTRIBUCIÓN POR PATOLOGÍA:\n",
      "   healthy: 2748 archivos\n",
      "   Hyperfunktionelle Dysphonie: 852 archivos\n",
      "   Rekurrensparese: 849 archivos\n",
      "   Laryngitis: 560 archivos\n",
      "   Funktionelle Dysphonie: 448 archivos\n",
      "   Dysphonie: 404 archivos\n",
      "   Psychogene Dysphonie: 364 archivos\n",
      "   Kontaktpachydermie: 284 archivos\n",
      "   Reinke Ödem: 272 archivos\n",
      "   Spasmodische Dysphonie: 256 archivos\n",
      "   Chordektomie: 236 archivos\n",
      "   Dysodie: 224 archivos\n",
      "   Stimmlippenpolyp: 180 archivos\n",
      "   Leukoplakie: 164 archivos\n",
      "   Vox senilis: 156 archivos\n",
      "   Frontolaterale Teilresektion: 140 archivos\n",
      "   Stimmlippenkarzinom: 88 archivos\n",
      "   Balbuties: 79 archivos\n",
      "   Dysarthrophonie: 76 archivos\n",
      "   Rhinophonie aperta: 68 archivos\n",
      "   Phonationsknötchen: 68 archivos\n",
      "   Gesangsstimme: 68 archivos\n",
      "   Hypofunktionelle Dysphonie: 64 archivos\n",
      "   Zentral-laryngale Bewegungsstörung: 56 archivos\n",
      "   Taschenfaltenstimme: 44 archivos\n",
      "   Mutationsfistelstimme: 40 archivos\n",
      "   Phonasthenie: 40 archivos\n",
      "   Hypopharynxtumor: 24 archivos\n",
      "   Aryluxation: 24 archivos\n",
      "   Cyste: 24 archivos\n",
      "   Hypotone Dysphonie: 20 archivos\n",
      "   Diplophonie: 20 archivos\n",
      "   Kehlkopftumor: 20 archivos\n",
      "   Intubationsgranulom: 16 archivos\n",
      "   Sigmatismus: 16 archivos\n",
      "   Laryngozele: 12 archivos\n",
      "   N. laryngeus superior Läsion: 12 archivos\n",
      "   Monochorditis: 12 archivos\n",
      "   Intubationsschaden: 12 archivos\n",
      "   N. laryngeus superior Neuralgie: 12 archivos\n",
      "   GERD: 12 archivos\n",
      "   Poltersyndrom: 12 archivos\n",
      "   Granulom: 8 archivos\n",
      "   Velopharyngoplastik: 8 archivos\n",
      "   Mutatio: 8 archivos\n",
      "   Sängerstimme: 8 archivos\n",
      "   Non-fluency-Syndrom: 8 archivos\n",
      "   Bulbärparalyse: 8 archivos\n",
      "   Fibrom: 8 archivos\n",
      "   Synechie: 8 archivos\n",
      "   Amyotrophe Lateralsklerose: 8 archivos\n",
      "   Taschenfaltenhyperplasie: 8 archivos\n",
      "   Dysplastischer Kehlkopf: 4 archivos\n",
      "   Psychogene Mikrophonie: 4 archivos\n",
      "   Internusschwäche: 4 archivos\n",
      "   Rhinophonie mixta: 4 archivos\n",
      "   Morbus Parkinson: 4 archivos\n",
      "   Mesopharynxtumor: 4 archivos\n",
      "   Chondrom: 4 archivos\n",
      "   Papillom: 4 archivos\n",
      "   Hyperasthenie: 4 archivos\n",
      "   Orofaciale Dyspraxie: 4 archivos\n",
      "   Dysplastische Dysphonie: 4 archivos\n",
      "   Carcinoma in situ: 4 archivos\n",
      "   Juvenile Dysphonie: 4 archivos\n",
      "   Valleculacyste: 4 archivos\n",
      "   Morbus Down: 4 archivos\n",
      "   Rhinophonie clausa: 4 archivos\n",
      "   Psychogene Aphonie: 4 archivos\n",
      "   Mediale Halscyste: 4 archivos\n",
      "   Dish-Syndrom: 4 archivos\n",
      "   Epiglottiskarzinom: 4 archivos\n",
      "\n",
      "Extracción completada exitosamente\n",
      "Archivos extraídos en: temp\\svdd_extraction\n",
      "DataFrame guardado: temp\\extracted_df.pkl\n",
      "Estado guardado: extraction\n"
     ]
    }
   ],
   "source": [
    "# ============================================================================\n",
    "# 3. EXTRACCIÓN Y FILTRADO DE ARCHIVOS VOCAL /a/\n",
    "# ============================================================================\n",
    "\n",
    "def extract_vowel_a_files(zip_path: str, temp_dir: Path) -> pd.DataFrame:\n",
    "    \"\"\"\n",
    "    Extrae archivos .NSP con vocal /a/ del ZIP anidado.\n",
    "    Maneja ZIPs anidados como healthy.zip, Diplophonie.zip, etc.\n",
    "    \n",
    "    Args:\n",
    "        zip_path: Ruta al ZIP principal\n",
    "        temp_dir: Directorio temporal para extracción\n",
    "        \n",
    "    Returns:\n",
    "        DataFrame con información de archivos extraídos\n",
    "    \"\"\"\n",
    "    print(f\"[PASO 2/8] Extrayendo archivos vocal /a/...\")\n",
    "    \n",
    "    # Crear directorio temporal\n",
    "    temp_dir.mkdir(parents=True, exist_ok=True)\n",
    "    \n",
    "    extracted_files = []\n",
    "    \n",
    "    try:\n",
    "        with zipfile.ZipFile(zip_path, 'r') as main_zip:\n",
    "            # Identificar ZIPs anidados\n",
    "            nested_zip_files = [f for f in main_zip.namelist() if f.endswith('.zip')]\n",
    "            print(f\"ZIPs anidados encontrados: {len(nested_zip_files)}\")\n",
    "            \n",
    "            # Filtrar solo data.zip problemático, procesar todos los demás\n",
    "            filtered_zips = []\n",
    "            \n",
    "            for nested_zip_name in nested_zip_files:\n",
    "                # Saltar solo data.zip problemático\n",
    "                if nested_zip_name.lower() == 'data.zip':\n",
    "                    print(f\"Saltando {nested_zip_name} (ZIP problemático)\")\n",
    "                    continue\n",
    "                \n",
    "                # Procesar todos los demás ZIPs\n",
    "                filtered_zips.append(nested_zip_name)\n",
    "            \n",
    "            print(f\"ZIPs a procesar: {len(filtered_zips)}\")\n",
    "            \n",
    "            for nested_zip_name in filtered_zips:\n",
    "                print(f\"Procesando ZIP anidado: {nested_zip_name}\")\n",
    "                \n",
    "                try:\n",
    "                    # Extraer ZIP anidado temporalmente\n",
    "                    nested_zip_data = main_zip.read(nested_zip_name)\n",
    "                    \n",
    "                    with zipfile.ZipFile(io.BytesIO(nested_zip_data), 'r') as nested_zip:\n",
    "                        # Filtrar archivos vocal /a/ en el ZIP anidado\n",
    "                        vowel_a_files = [f for f in nested_zip.namelist() \n",
    "                                       if f.endswith('.nsp') and re.search(VOWEL_PATTERN, f)]\n",
    "                        \n",
    "                        print(f\"   Encontrados {len(vowel_a_files)} archivos vocal /a/ en {nested_zip_name}\")\n",
    "                        \n",
    "                        # Extraer archivos del ZIP anidado\n",
    "                        for file_path in tqdm(vowel_a_files, desc=f\"Extrayendo de {nested_zip_name}\"):\n",
    "                            try:\n",
    "                                # Crear ruta de destino\n",
    "                                pathology_name = nested_zip_name.replace('.zip', '')\n",
    "                                dest_path = temp_dir / pathology_name / file_path\n",
    "                                dest_path.parent.mkdir(parents=True, exist_ok=True)\n",
    "                                \n",
    "                                # Extraer archivo del ZIP anidado\n",
    "                                with nested_zip.open(file_path) as source_file:\n",
    "                                    with open(dest_path, 'wb') as target_file:\n",
    "                                        target_file.write(source_file.read())\n",
    "                                \n",
    "                                # Obtener información del archivo\n",
    "                                file_info = nested_zip.getinfo(file_path)\n",
    "                                file_size = file_info.file_size\n",
    "                                \n",
    "                                # Determinar categoría\n",
    "                                is_healthy = 'healthy' in pathology_name.lower()\n",
    "                                \n",
    "                                # Agregar a lista\n",
    "                                extracted_files.append({\n",
    "                                    'filename': os.path.basename(file_path),\n",
    "                                    'original_path': f\"{nested_zip_name}/{file_path}\",\n",
    "                                    'extracted_path': str(dest_path),\n",
    "                                    'pathology': pathology_name,\n",
    "                                    'is_healthy': is_healthy,\n",
    "                                    'size_bytes': file_size,\n",
    "                                    'category': 'healthy' if is_healthy else 'pathological'\n",
    "                                })\n",
    "                                \n",
    "                            except Exception as e:\n",
    "                                print(f\"Error extrayendo {file_path} de {nested_zip_name}: {e}\")\n",
    "                                continue\n",
    "                \n",
    "                except Exception as e:\n",
    "                    print(f\"Error procesando {nested_zip_name}: {e}\")\n",
    "                    continue\n",
    "    \n",
    "    except Exception as e:\n",
    "        print(f\"Error en extracción: {e}\")\n",
    "        return pd.DataFrame()\n",
    "    \n",
    "    # Crear DataFrame\n",
    "    df = pd.DataFrame(extracted_files)\n",
    "    \n",
    "    if not df.empty:\n",
    "        print(f\"\\nARCHIVOS EXTRAÍDOS:\")\n",
    "        print(f\"   Total: {len(df)}\")\n",
    "        print(f\"   Healthy: {len(df[df['is_healthy']])}\")\n",
    "        print(f\"   Pathological: {len(df[~df['is_healthy']])}\")\n",
    "        print(f\"   Tamaño total: {df['size_bytes'].sum() / (1024*1024):.1f} MB\")\n",
    "        \n",
    "        # Mostrar distribución por patología\n",
    "        pathology_counts = df['pathology'].value_counts()\n",
    "        print(f\"\\nDISTRIBUCIÓN POR PATOLOGÍA:\")\n",
    "        for pathology, count in pathology_counts.items():\n",
    "            print(f\"   {pathology}: {count} archivos\")\n",
    "    \n",
    "    return df\n",
    "\n",
    "# Ejecutar extracción solo si no está completada\n",
    "if not check_step_completed('extraction'):\n",
    "    if zip_stats:\n",
    "        print(f\"\\nIniciando extracción...\")\n",
    "        extracted_df = extract_vowel_a_files(ZIP_PATH, TEMP_DIR)\n",
    "        \n",
    "        if not extracted_df.empty:\n",
    "            print(f\"\\nExtracción completada exitosamente\")\n",
    "            print(f\"Archivos extraídos en: {TEMP_DIR}\")\n",
    "            \n",
    "            # Guardar DataFrame y estado\n",
    "            save_dataframe(extracted_df, EXTRACTED_DF_FILE)\n",
    "            save_state('extraction')\n",
    "        else:\n",
    "            print(f\"No se pudieron extraer archivos\")\n",
    "            extracted_df = pd.DataFrame()\n",
    "    else:\n",
    "        print(f\"No se puede proceder sin exploración previa\")\n",
    "        extracted_df = pd.DataFrame()\n",
    "else:\n",
    "    print(\"Extracción ya completada. Saltando paso...\")\n",
    "    extracted_df = load_dataframe(EXTRACTED_DF_FILE)\n"
   ]
  },
  {
   "cell_type": "code",
   "execution_count": 7,
   "metadata": {},
   "outputs": [
    {
     "name": "stdout",
     "output_type": "stream",
     "text": [
      "Estado previo encontrado: extraction\n",
      "\n",
      "Iniciando conversión de archivos...\n",
      "[PASO 3/8] Convertiendo archivos NSP a WAV...\n"
     ]
    },
    {
     "name": "stderr",
     "output_type": "stream",
     "text": [
      "Convirtiendo: 100%|█████████████████████████████████████████████████████████████████████████████████████████████████████████████████████████████████████████████████████████| 9236/9236 [13:31<00:00, 11.39it/s]"
     ]
    },
    {
     "name": "stdout",
     "output_type": "stream",
     "text": [
      "\n",
      "Estadísticas de conversión:\n",
      "   Exitosas: 9236\n",
      "   Fallidas: 0\n",
      "   Tasa de éxito: 100.0%\n",
      "Conversión completada\n",
      "Archivos WAV guardados en: data\\svdd_processed\n",
      "DataFrame guardado: temp\\conversion_df.pkl\n",
      "Estado guardado: conversion\n"
     ]
    },
    {
     "name": "stderr",
     "output_type": "stream",
     "text": [
      "\n"
     ]
    }
   ],
   "source": [
    "# ============================================================================\n",
    "# 4. CONVERSIÓN DE FORMATO NSP A WAV\n",
    "# ============================================================================\n",
    "\n",
    "def convert_nsp_to_wav(nsp_path: str, wav_path: str) -> bool:\n",
    "    \"\"\"\n",
    "    Convierte archivo .NSP a .WAV con resampleo a 44.1 kHz mono.\n",
    "    \n",
    "    Args:\n",
    "        nsp_path: Ruta al archivo .NSP\n",
    "        wav_path: Ruta de salida .WAV\n",
    "        \n",
    "    Returns:\n",
    "        True si conversión exitosa, False en caso contrario\n",
    "    \"\"\"\n",
    "    try:\n",
    "        # Intentar leer con soundfile primero\n",
    "        try:\n",
    "            audio_data, sample_rate = sf.read(nsp_path)\n",
    "        except:\n",
    "            # Si soundfile falla, intentar con librosa\n",
    "            audio_data, sample_rate = librosa.load(nsp_path, sr=None)\n",
    "        \n",
    "        # Convertir a mono si es estéreo\n",
    "        if len(audio_data.shape) > 1:\n",
    "            audio_data = np.mean(audio_data, axis=1)\n",
    "        \n",
    "        # Resamplear a 44.1 kHz si es necesario\n",
    "        if sample_rate != TARGET_SAMPLE_RATE:\n",
    "            audio_data = librosa.resample(audio_data, orig_sr=sample_rate, target_sr=TARGET_SAMPLE_RATE)\n",
    "        \n",
    "        # Normalizar amplitud\n",
    "        if np.max(np.abs(audio_data)) > 0:\n",
    "            audio_data = audio_data / np.max(np.abs(audio_data))\n",
    "        \n",
    "        # Guardar como WAV\n",
    "        sf.write(wav_path, audio_data, TARGET_SAMPLE_RATE)\n",
    "        \n",
    "        return True\n",
    "        \n",
    "    except Exception as e:\n",
    "        print(f\"Error convirtiendo {nsp_path}: {e}\")\n",
    "        return False\n",
    "\n",
    "def batch_convert_nsp_to_wav(df: pd.DataFrame, output_dir: Path) -> pd.DataFrame:\n",
    "    \"\"\"\n",
    "    Convierte lote de archivos .NSP a .WAV.\n",
    "    \n",
    "    Args:\n",
    "        df: DataFrame con archivos extraídos\n",
    "        output_dir: Directorio de salida\n",
    "        \n",
    "    Returns:\n",
    "        DataFrame actualizado con rutas de archivos WAV\n",
    "    \"\"\"\n",
    "    print(f\"[PASO 3/8] Convertiendo archivos NSP a WAV...\")\n",
    "    \n",
    "    # Crear directorios de salida\n",
    "    healthy_dir = output_dir / \"healthy\"\n",
    "    pathological_dir = output_dir / \"pathological\"\n",
    "    healthy_dir.mkdir(parents=True, exist_ok=True)\n",
    "    pathological_dir.mkdir(parents=True, exist_ok=True)\n",
    "    \n",
    "    conversion_results = []\n",
    "    successful_conversions = 0\n",
    "    failed_conversions = 0\n",
    "    \n",
    "    for idx, row in tqdm(df.iterrows(), total=len(df), desc=\"Convirtiendo\"):\n",
    "        nsp_path = row['extracted_path']\n",
    "        filename = row['filename']\n",
    "        category = row['category']\n",
    "        \n",
    "        # Determinar directorio de salida\n",
    "        if category == 'healthy':\n",
    "            wav_dir = healthy_dir\n",
    "        else:\n",
    "            wav_dir = pathological_dir\n",
    "        \n",
    "        # Crear nombre de archivo WAV\n",
    "        wav_filename = filename.replace('.nsp', '.wav')\n",
    "        wav_path = wav_dir / wav_filename\n",
    "        \n",
    "        # Convertir archivo\n",
    "        success = convert_nsp_to_wav(nsp_path, str(wav_path))\n",
    "        \n",
    "        if success:\n",
    "            successful_conversions += 1\n",
    "            conversion_results.append({\n",
    "                'original_nsp': nsp_path,\n",
    "                'converted_wav': str(wav_path),\n",
    "                'category': category,\n",
    "                'success': True\n",
    "            })\n",
    "        else:\n",
    "            failed_conversions += 1\n",
    "            conversion_results.append({\n",
    "                'original_nsp': nsp_path,\n",
    "                'converted_wav': None,\n",
    "                'category': category,\n",
    "                'success': False\n",
    "            })\n",
    "    \n",
    "    # Mostrar estadísticas\n",
    "    print(f\"\\nEstadísticas de conversión:\")\n",
    "    print(f\"   Exitosas: {successful_conversions}\")\n",
    "    print(f\"   Fallidas: {failed_conversions}\")\n",
    "    print(f\"   Tasa de éxito: {successful_conversions/(successful_conversions+failed_conversions)*100:.1f}%\")\n",
    "    \n",
    "    return pd.DataFrame(conversion_results)\n",
    "\n",
    "# Ejecutar conversión solo si no está completada\n",
    "if not check_step_completed('conversion'):\n",
    "    if not extracted_df.empty:\n",
    "        print(f\"\\nIniciando conversión de archivos...\")\n",
    "        conversion_df = batch_convert_nsp_to_wav(extracted_df, OUTPUT_DIR)\n",
    "        \n",
    "        if not conversion_df.empty:\n",
    "            print(f\"Conversión completada\")\n",
    "            print(f\"Archivos WAV guardados en: {OUTPUT_DIR}\")\n",
    "            \n",
    "            # Guardar DataFrame y estado\n",
    "            save_dataframe(conversion_df, CONVERSION_DF_FILE)\n",
    "            save_state('conversion')\n",
    "        else:\n",
    "            print(f\"No se pudieron convertir archivos\")\n",
    "            conversion_df = pd.DataFrame()\n",
    "    else:\n",
    "        print(f\"No hay archivos para convertir\")\n",
    "        conversion_df = pd.DataFrame()\n",
    "else:\n",
    "    print(\"Conversión ya completada. Saltando paso...\")\n",
    "    conversion_df = load_dataframe(CONVERSION_DF_FILE)\n"
   ]
  },
  {
   "cell_type": "code",
   "execution_count": 8,
   "metadata": {},
   "outputs": [
    {
     "name": "stdout",
     "output_type": "stream",
     "text": [
      "Estado previo encontrado: conversion\n",
      "\n",
      "Iniciando balanceo de clases...\n",
      "[PASO 4/8] Balanceando clases del dataset...\n",
      "Archivos antes del balanceo:\n",
      "   Healthy: 2748\n",
      "   Pathological: 6488\n",
      "Objetivo de balanceo: 2748 archivos por clase\n",
      "\n",
      "Archivos después del balanceo:\n",
      "   Healthy: 2748\n",
      "   Pathological: 2748\n",
      "   Total: 5496\n",
      "Balanceo completado exitosamente\n",
      "DataFrame guardado: temp\\balanced_df.pkl\n",
      "Estado guardado: balancing\n"
     ]
    }
   ],
   "source": [
    "# ============================================================================\n",
    "# 5. BALANCEO DE CLASES\n",
    "# ============================================================================\n",
    "\n",
    "def balance_dataset(conversion_df: pd.DataFrame) -> pd.DataFrame:\n",
    "    \"\"\"\n",
    "    Balancea el dataset entre clases Healthy y Pathological.\n",
    "    \n",
    "    Args:\n",
    "        conversion_df: DataFrame con conversiones exitosas\n",
    "        \n",
    "    Returns:\n",
    "        DataFrame balanceado\n",
    "    \"\"\"\n",
    "    print(f\"[PASO 4/8] Balanceando clases del dataset...\")\n",
    "    \n",
    "    if conversion_df.empty:\n",
    "        print(\"No hay datos para balancear\")\n",
    "        return pd.DataFrame()\n",
    "    \n",
    "    # Filtrar solo conversiones exitosas\n",
    "    successful_df = conversion_df[conversion_df['success'] == True].copy()\n",
    "    \n",
    "    if successful_df.empty:\n",
    "        print(\"No hay conversiones exitosas para balancear\")\n",
    "        return pd.DataFrame()\n",
    "    \n",
    "    # Contar archivos por categoría\n",
    "    healthy_count = len(successful_df[successful_df['category'] == 'healthy'])\n",
    "    pathological_count = len(successful_df[successful_df['category'] == 'pathological'])\n",
    "    \n",
    "    print(f\"Archivos antes del balanceo:\")\n",
    "    print(f\"   Healthy: {healthy_count}\")\n",
    "    print(f\"   Pathological: {pathological_count}\")\n",
    "    \n",
    "    # Determinar estrategia de balanceo\n",
    "    if healthy_count == 0:\n",
    "        print(\"No hay archivos healthy para balancear\")\n",
    "        return successful_df\n",
    "    \n",
    "    if pathological_count == 0:\n",
    "        print(\"No hay archivos pathological para balancear\")\n",
    "        return successful_df\n",
    "    \n",
    "    # Usar la clase con menos archivos como referencia\n",
    "    target_count = min(healthy_count, pathological_count)\n",
    "    \n",
    "    print(f\"Objetivo de balanceo: {target_count} archivos por clase\")\n",
    "    \n",
    "    # Seleccionar muestras aleatorias\n",
    "    balanced_files = []\n",
    "    \n",
    "    # Healthy: tomar todos si son pocos, o muestrear si son muchos\n",
    "    healthy_df = successful_df[successful_df['category'] == 'healthy']\n",
    "    if len(healthy_df) <= target_count:\n",
    "        selected_healthy = healthy_df\n",
    "    else:\n",
    "        selected_healthy = healthy_df.sample(n=target_count, random_state=SEED)\n",
    "    \n",
    "    balanced_files.append(selected_healthy)\n",
    "    \n",
    "    # Pathological: distribuir uniformemente entre patologías\n",
    "    pathological_df = successful_df[successful_df['category'] == 'pathological']\n",
    "    \n",
    "    if len(pathological_df) <= target_count:\n",
    "        selected_pathological = pathological_df\n",
    "    else:\n",
    "        # Distribuir uniformemente entre patologías\n",
    "        pathology_groups = pathological_df.groupby('category')\n",
    "        selected_pathological = []\n",
    "        \n",
    "        for category, group in pathology_groups:\n",
    "            if len(group) <= target_count // len(pathology_groups):\n",
    "                selected_pathological.append(group)\n",
    "            else:\n",
    "                sample_size = target_count // len(pathology_groups)\n",
    "                selected_pathological.append(group.sample(n=sample_size, random_state=SEED))\n",
    "        \n",
    "        selected_pathological = pd.concat(selected_pathological, ignore_index=True)\n",
    "    \n",
    "    balanced_files.append(selected_pathological)\n",
    "    \n",
    "    # Combinar resultados\n",
    "    balanced_df = pd.concat(balanced_files, ignore_index=True)\n",
    "    \n",
    "    # Mostrar estadísticas finales\n",
    "    final_healthy = len(balanced_df[balanced_df['category'] == 'healthy'])\n",
    "    final_pathological = len(balanced_df[balanced_df['category'] == 'pathological'])\n",
    "    \n",
    "    print(f\"\\nArchivos después del balanceo:\")\n",
    "    print(f\"   Healthy: {final_healthy}\")\n",
    "    print(f\"   Pathological: {final_pathological}\")\n",
    "    print(f\"   Total: {len(balanced_df)}\")\n",
    "    \n",
    "    return balanced_df\n",
    "\n",
    "# Ejecutar balanceo solo si no está completado\n",
    "if not check_step_completed('balancing'):\n",
    "    if not conversion_df.empty:\n",
    "        print(f\"\\nIniciando balanceo de clases...\")\n",
    "        balanced_df = balance_dataset(conversion_df)\n",
    "        \n",
    "        if not balanced_df.empty:\n",
    "            print(f\"Balanceo completado exitosamente\")\n",
    "            \n",
    "            # Guardar DataFrame y estado\n",
    "            save_dataframe(balanced_df, BALANCED_DF_FILE)\n",
    "            save_state('balancing')\n",
    "        else:\n",
    "            print(f\"No se pudo balancear el dataset\")\n",
    "            balanced_df = pd.DataFrame()\n",
    "    else:\n",
    "        print(f\"No hay datos para balancear\")\n",
    "        balanced_df = pd.DataFrame()\n",
    "else:\n",
    "    print(\"Balanceo ya completado. Saltando paso...\")\n",
    "    balanced_df = load_dataframe(BALANCED_DF_FILE)\n"
   ]
  },
  {
   "cell_type": "code",
   "execution_count": 9,
   "metadata": {},
   "outputs": [
    {
     "name": "stdout",
     "output_type": "stream",
     "text": [
      "Estado previo encontrado: balancing\n",
      "Organización ya completada. Saltando paso...\n"
     ]
    }
   ],
   "source": [
    "# ============================================================================\n",
    "# 6. ORGANIZACIÓN FINAL Y METADATA\n",
    "# ============================================================================\n",
    "\n",
    "def create_final_structure(balanced_df: pd.DataFrame, output_dir: Path) -> Dict:\n",
    "    \"\"\"\n",
    "    Crea la estructura final del dataset y genera metadata.\n",
    "    \n",
    "    Args:\n",
    "        balanced_df: DataFrame con archivos balanceados\n",
    "        output_dir: Directorio de salida final\n",
    "        \n",
    "    Returns:\n",
    "        Diccionario con metadata del proceso\n",
    "    \"\"\"\n",
    "    print(f\"[PASO 5/8] Organizando estructura final...\")\n",
    "    \n",
    "    if balanced_df.empty:\n",
    "        print(\"No hay datos para organizar\")\n",
    "        return {}\n",
    "    \n",
    "    # Crear directorios finales\n",
    "    final_healthy_dir = output_dir / \"healthy\"\n",
    "    final_pathological_dir = output_dir / \"pathological\"\n",
    "    \n",
    "    final_healthy_dir.mkdir(parents=True, exist_ok=True)\n",
    "    final_pathological_dir.mkdir(parents=True, exist_ok=True)\n",
    "    \n",
    "    # Copiar archivos a estructura final\n",
    "    copied_files = []\n",
    "    errors = []\n",
    "    \n",
    "    for idx, row in balanced_df.iterrows():\n",
    "        try:\n",
    "            source_wav = row['converted_wav']\n",
    "            category = row['category']\n",
    "            filename = os.path.basename(source_wav)\n",
    "            \n",
    "            # Determinar directorio destino\n",
    "            if category == 'healthy':\n",
    "                dest_dir = final_healthy_dir\n",
    "            else:\n",
    "                dest_dir = final_pathological_dir\n",
    "            \n",
    "            dest_path = dest_dir / filename\n",
    "            \n",
    "            # Copiar archivo\n",
    "            shutil.copy2(source_wav, dest_path)\n",
    "            \n",
    "            copied_files.append({\n",
    "                'filename': filename,\n",
    "                'category': category,\n",
    "                'source': source_wav,\n",
    "                'destination': str(dest_path),\n",
    "                'size_bytes': os.path.getsize(dest_path)\n",
    "            })\n",
    "            \n",
    "        except Exception as e:\n",
    "            errors.append(f\"Error copiando {row['converted_wav']}: {e}\")\n",
    "    \n",
    "    # Generar metadata\n",
    "    metadata = {\n",
    "        'preparation_info': {\n",
    "            'timestamp': pd.Timestamp.now().isoformat(),\n",
    "            'source_zip': ZIP_PATH,\n",
    "            'vowel_pattern': VOWEL_PATTERN,\n",
    "            'target_sample_rate': TARGET_SAMPLE_RATE,\n",
    "            'seed': SEED\n",
    "        },\n",
    "        'extraction_stats': {\n",
    "            'total_nsp_files': len(extracted_df) if not extracted_df.empty else 0,\n",
    "            'vowel_a_files': len(extracted_df[extracted_df['filename'].str.contains(VOWEL_PATTERN)]) if not extracted_df.empty else 0,\n",
    "            'healthy_extracted': len(extracted_df[extracted_df['is_healthy']]) if not extracted_df.empty else 0,\n",
    "            'pathological_extracted': len(extracted_df[~extracted_df['is_healthy']]) if not extracted_df.empty else 0\n",
    "        },\n",
    "        'conversion_stats': {\n",
    "            'total_conversions': len(conversion_df) if not conversion_df.empty else 0,\n",
    "            'successful_conversions': len(conversion_df[conversion_df['success'] == True]) if not conversion_df.empty else 0,\n",
    "            'failed_conversions': len(conversion_df[conversion_df['success'] == False]) if not conversion_df.empty else 0\n",
    "        },\n",
    "        'balancing_stats': {\n",
    "            'balanced_files': len(balanced_df) if not balanced_df.empty else 0,\n",
    "            'healthy_balanced': len(balanced_df[balanced_df['category'] == 'healthy']) if not balanced_df.empty else 0,\n",
    "            'pathological_balanced': len(balanced_df[balanced_df['category'] == 'pathological']) if not balanced_df.empty else 0\n",
    "        },\n",
    "        'final_structure': {\n",
    "            'total_files': len(copied_files),\n",
    "            'healthy_files': len([f for f in copied_files if f['category'] == 'healthy']),\n",
    "            'pathological_files': len([f for f in copied_files if f['category'] == 'pathological']),\n",
    "            'total_size_mb': sum(f['size_bytes'] for f in copied_files) / (1024*1024),\n",
    "            'errors': len(errors)\n",
    "        },\n",
    "        'file_list': copied_files,\n",
    "        'errors': errors\n",
    "    }\n",
    "    \n",
    "    # Guardar metadata\n",
    "    metadata_file = output_dir / \"metadata.json\"\n",
    "    with open(metadata_file, 'w', encoding='utf-8') as f:\n",
    "        json.dump(metadata, f, indent=2, ensure_ascii=False)\n",
    "    \n",
    "    # Mostrar estadísticas\n",
    "    print(f\"\\nEstructura final creada:\")\n",
    "    print(f\"   Directorio: {output_dir}\")\n",
    "    print(f\"   Archivos copiados: {len(copied_files)}\")\n",
    "    print(f\"   Healthy: {len([f for f in copied_files if f['category'] == 'healthy'])}\")\n",
    "    print(f\"   Pathological: {len([f for f in copied_files if f['category'] == 'pathological'])}\")\n",
    "    print(f\"   Tamaño total: {metadata['final_structure']['total_size_mb']:.1f} MB\")\n",
    "    print(f\"   Errores: {len(errors)}\")\n",
    "    print(f\"   Metadata guardada en: {metadata_file}\")\n",
    "    \n",
    "    return metadata\n",
    "\n",
    "# Ejecutar organización final solo si no está completada\n",
    "if not check_step_completed('organization'):\n",
    "    if not balanced_df.empty:\n",
    "        print(f\"\\nIniciando organización final...\")\n",
    "        final_metadata = create_final_structure(balanced_df, OUTPUT_DIR)\n",
    "        \n",
    "        if final_metadata:\n",
    "            print(f\"Organización completada exitosamente\")\n",
    "            \n",
    "            # Guardar estado\n",
    "            save_state('organization')\n",
    "        else:\n",
    "            print(f\"No se pudo organizar la estructura final\")\n",
    "            final_metadata = {}\n",
    "    else:\n",
    "        print(f\"No hay datos balanceados para organizar\")\n",
    "        final_metadata = {}\n",
    "else:\n",
    "    print(\"Organización ya completada. Saltando paso...\")\n",
    "    # Cargar metadata existente\n",
    "    if METADATA_FILE.exists():\n",
    "        try:\n",
    "            with open(METADATA_FILE, 'r', encoding='utf-8') as f:\n",
    "                final_metadata = json.load(f)\n",
    "            print(\"Metadata existente cargada\")\n",
    "        except:\n",
    "            final_metadata = {}\n",
    "    else:\n",
    "        final_metadata = {}\n"
   ]
  },
  {
   "cell_type": "code",
   "execution_count": 10,
   "metadata": {},
   "outputs": [
    {
     "name": "stdout",
     "output_type": "stream",
     "text": [
      "[PASO 6/8] Generando visualizaciones...\n"
     ]
    },
    {
     "data": {
      "image/png": "[encoded data removed]",
      "text/plain": [
       "<Figure size 1500x1200 with 4 Axes>"
      ]
     },
     "metadata": {},
     "output_type": "display_data"
    },
    {
     "name": "stdout",
     "output_type": "stream",
     "text": [
      "\n",
      "Visualizaciones generadas exitosamente\n"
     ]
    }
   ],
   "source": [
    "# ============================================================================\n",
    "# 7. VISUALIZACIONES Y ANÁLISIS\n",
    "# ============================================================================\n",
    "\n",
    "def create_visualizations(extracted_df: pd.DataFrame, balanced_df: pd.DataFrame, final_metadata: Dict):\n",
    "    \"\"\"\n",
    "    Crea visualizaciones del proceso de preparación de datos.\n",
    "    \n",
    "    Args:\n",
    "        extracted_df: DataFrame con archivos extraídos\n",
    "        balanced_df: DataFrame con archivos balanceados\n",
    "        final_metadata: Metadata del proceso final\n",
    "    \"\"\"\n",
    "    print(f\"[PASO 6/8] Generando visualizaciones...\")\n",
    "    \n",
    "    # Configurar subplots\n",
    "    fig, axes = plt.subplots(2, 2, figsize=(15, 12))\n",
    "    fig.suptitle('Análisis del Proceso de Preparación de Datos SVDD', fontsize=16, fontweight='bold')\n",
    "    \n",
    "    # 1. Gráfico de barras: Distribución por patología (antes del balanceo)\n",
    "    if not extracted_df.empty:\n",
    "        pathology_counts = extracted_df['pathology'].value_counts()\n",
    "        axes[0, 0].bar(range(len(pathology_counts)), pathology_counts.values, \n",
    "                      color=sns.color_palette(\"husl\", len(pathology_counts)))\n",
    "        axes[0, 0].set_title('Distribución por Patología (Antes del Balanceo)')\n",
    "        axes[0, 0].set_xlabel('Patología')\n",
    "        axes[0, 0].set_ylabel('Número de Archivos')\n",
    "        axes[0, 0].set_xticks(range(len(pathology_counts)))\n",
    "        axes[0, 0].set_xticklabels(pathology_counts.index, rotation=45, ha='right')\n",
    "        \n",
    "        # Agregar valores en las barras\n",
    "        for i, v in enumerate(pathology_counts.values):\n",
    "            axes[0, 0].text(i, v + 0.5, str(v), ha='center', va='bottom')\n",
    "    else:\n",
    "        axes[0, 0].text(0.5, 0.5, 'No hay datos extraídos', ha='center', va='center', transform=axes[0, 0].transAxes)\n",
    "        axes[0, 0].set_title('Distribución por Patología (Sin Datos)')\n",
    "    \n",
    "    # 2. Pie chart: Healthy vs Pathological (después del balanceo)\n",
    "    if not balanced_df.empty:\n",
    "        category_counts = balanced_df['category'].value_counts()\n",
    "        colors = ['lightblue', 'lightcoral']\n",
    "        wedges, texts, autotexts = axes[0, 1].pie(category_counts.values, \n",
    "                                                 labels=category_counts.index,\n",
    "                                                 colors=colors,\n",
    "                                                 autopct='%1.1f%%',\n",
    "                                                 startangle=90)\n",
    "        axes[0, 1].set_title('Distribución Final: Healthy vs Pathological')\n",
    "        \n",
    "        # Mejorar la apariencia del pie chart\n",
    "        for autotext in autotexts:\n",
    "            autotext.set_color('white')\n",
    "            autotext.set_fontweight('bold')\n",
    "    else:\n",
    "        axes[0, 1].text(0.5, 0.5, 'No hay datos balanceados', ha='center', va='center', transform=axes[0, 1].transAxes)\n",
    "        axes[0, 1].set_title('Distribución Final (Sin Datos)')\n",
    "    \n",
    "    # 3. Estadísticas del proceso\n",
    "    if final_metadata:\n",
    "        stats_data = [\n",
    "            ['Archivos NSP extraídos', final_metadata.get('extraction_stats', {}).get('vowel_a_files', 0)],\n",
    "            ['Conversiones exitosas', final_metadata.get('conversion_stats', {}).get('successful_conversions', 0)],\n",
    "            ['Archivos balanceados', final_metadata.get('balancing_stats', {}).get('balanced_files', 0)],\n",
    "            ['Archivos finales', final_metadata.get('final_structure', {}).get('total_files', 0)]\n",
    "        ]\n",
    "        \n",
    "        # Crear tabla\n",
    "        axes[1, 0].axis('tight')\n",
    "        axes[1, 0].axis('off')\n",
    "        table = axes[1, 0].table(cellText=stats_data,\n",
    "                                colLabels=['Métrica', 'Valor'],\n",
    "                                cellLoc='center',\n",
    "                                loc='center')\n",
    "        table.auto_set_font_size(False)\n",
    "        table.set_fontsize(10)\n",
    "        table.scale(1, 2)\n",
    "        axes[1, 0].set_title('Estadísticas del Proceso')\n",
    "    else:\n",
    "        axes[1, 0].text(0.5, 0.5, 'No hay metadata disponible', ha='center', va='center', transform=axes[1, 0].transAxes)\n",
    "        axes[1, 0].set_title('Estadísticas del Proceso (Sin Datos)')\n",
    "    \n",
    "    # 4. Ejemplo de formas de onda\n",
    "    if not balanced_df.empty and len(balanced_df) > 0:\n",
    "        # Seleccionar muestras para visualizar\n",
    "        healthy_sample = balanced_df[balanced_df['category'] == 'healthy'].iloc[0] if len(balanced_df[balanced_df['category'] == 'healthy']) > 0 else None\n",
    "        pathological_sample = balanced_df[balanced_df['category'] == 'pathological'].iloc[0] if len(balanced_df[balanced_df['category'] == 'pathological']) > 0 else None\n",
    "        \n",
    "        if healthy_sample is not None:\n",
    "            try:\n",
    "                # Cargar y mostrar forma de onda healthy\n",
    "                audio_data, sr = librosa.load(healthy_sample['converted_wav'], sr=None)\n",
    "                time_axis = np.linspace(0, len(audio_data)/sr, len(audio_data))\n",
    "                axes[1, 1].plot(time_axis, audio_data, color='blue', alpha=0.7, label='Healthy')\n",
    "            except:\n",
    "                pass\n",
    "        \n",
    "        if pathological_sample is not None:\n",
    "            try:\n",
    "                # Cargar y mostrar forma de onda pathological\n",
    "                audio_data, sr = librosa.load(pathological_sample['converted_wav'], sr=None)\n",
    "                time_axis = np.linspace(0, len(audio_data)/sr, len(audio_data))\n",
    "                axes[1, 1].plot(time_axis, audio_data, color='red', alpha=0.7, label='Pathological')\n",
    "            except:\n",
    "                pass\n",
    "        \n",
    "        axes[1, 1].set_title('Ejemplos de Formas de Onda')\n",
    "        axes[1, 1].set_xlabel('Tiempo (s)')\n",
    "        axes[1, 1].set_ylabel('Amplitud')\n",
    "        axes[1, 1].legend()\n",
    "        axes[1, 1].grid(True, alpha=0.3)\n",
    "    else:\n",
    "        axes[1, 1].text(0.5, 0.5, 'No hay archivos para visualizar', ha='center', va='center', transform=axes[1, 1].transAxes)\n",
    "        axes[1, 1].set_title('Ejemplos de Formas de Onda (Sin Datos)')\n",
    "    \n",
    "    plt.tight_layout()\n",
    "    plt.show()\n",
    "    \n",
    "    # Crear tabla resumen\n",
    "    if final_metadata:\n",
    "        print(f\"\\nTABLA RESUMEN DEL PROCESO:\")\n",
    "        print(\"=\" * 60)\n",
    "        \n",
    "        summary_data = {\n",
    "            'Métrica': [\n",
    "                'Archivos NSP extraídos',\n",
    "                'Vocales /a/ encontradas', \n",
    "                'Archivos healthy extraídos',\n",
    "                'Archivos pathological extraídos',\n",
    "                'Conversiones exitosas',\n",
    "                'Conversiones fallidas',\n",
    "                'Archivos balanceados',\n",
    "                'Archivos finales healthy',\n",
    "                'Archivos finales pathological',\n",
    "                'Tamaño total (MB)'\n",
    "            ],\n",
    "            'Valor': [\n",
    "                final_metadata.get('extraction_stats', {}).get('total_nsp_files', 0),\n",
    "                final_metadata.get('extraction_stats', {}).get('vowel_a_files', 0),\n",
    "                final_metadata.get('extraction_stats', {}).get('healthy_extracted', 0),\n",
    "                final_metadata.get('extraction_stats', {}).get('pathological_extracted', 0),\n",
    "                final_metadata.get('conversion_stats', {}).get('successful_conversions', 0),\n",
    "                final_metadata.get('conversion_stats', {}).get('failed_conversions', 0),\n",
    "                final_metadata.get('balancing_stats', {}).get('balanced_files', 0),\n",
    "                final_metadata.get('final_structure', {}).get('healthy_files', 0),\n",
    "                final_metadata.get('final_structure', {}).get('pathological_files', 0),\n",
    "                f\"{final_metadata.get('final_structure', {}).get('total_size_mb', 0):.1f}\"\n",
    "            ]\n",
    "        }\n",
    "        \n",
    "        summary_df = pd.DataFrame(summary_data)\n",
    "        print(summary_df.to_string(index=False))\n",
    "    \n",
    "    print(f\"\\nVisualizaciones generadas exitosamente\")\n",
    "\n",
    "# Ejecutar visualizaciones solo si hay datos\n",
    "if not extracted_df.empty or not balanced_df.empty or final_metadata:\n",
    "    create_visualizations(extracted_df, balanced_df, final_metadata)\n",
    "else:\n",
    "    print(\"No hay datos suficientes para generar visualizaciones\")\n"
   ]
  },
  {
   "cell_type": "code",
   "execution_count": 11,
   "metadata": {},
   "outputs": [
    {
     "name": "stdout",
     "output_type": "stream",
     "text": [
      "Estado previo encontrado: balancing\n",
      "\n",
      "Iniciando validación final...\n",
      "[PASO 7/8] Validando integridad del dataset final...\n",
      "Validación completada:\n",
      "   Archivos healthy válidos: 2748\n",
      "   Archivos pathological válidos: 5412\n",
      "   Total validados: 8160\n",
      "   Archivos corruptos: 0\n",
      "   Errores: 0\n",
      "No hay metadata para generar reporte\n"
     ]
    }
   ],
   "source": [
    "# ============================================================================\n",
    "# 8. VALIDACIÓN FINAL Y REPORTE\n",
    "# ============================================================================\n",
    "\n",
    "def validate_final_dataset(output_dir: Path) -> Dict:\n",
    "    \"\"\"\n",
    "    Valida la integridad del dataset final.\n",
    "    \n",
    "    Args:\n",
    "        output_dir: Directorio del dataset final\n",
    "        \n",
    "    Returns:\n",
    "        Diccionario con resultados de validación\n",
    "    \"\"\"\n",
    "    print(f\"[PASO 7/8] Validando integridad del dataset final...\")\n",
    "    \n",
    "    validation_results = {\n",
    "        'healthy_files': [],\n",
    "        'pathological_files': [],\n",
    "        'corrupted_files': [],\n",
    "        'validation_errors': [],\n",
    "        'total_validated': 0,\n",
    "        'total_corrupted': 0\n",
    "    }\n",
    "    \n",
    "    # Validar archivos healthy\n",
    "    healthy_dir = output_dir / \"healthy\"\n",
    "    if healthy_dir.exists():\n",
    "        for wav_file in healthy_dir.glob(\"*.wav\"):\n",
    "            try:\n",
    "                # Intentar cargar el archivo\n",
    "                audio_data, sr = librosa.load(str(wav_file), sr=None)\n",
    "                \n",
    "                # Verificar propiedades básicas\n",
    "                if len(audio_data) > 0 and sr > 0:\n",
    "                    validation_results['healthy_files'].append({\n",
    "                        'filename': wav_file.name,\n",
    "                        'duration': len(audio_data) / sr,\n",
    "                        'sample_rate': sr,\n",
    "                        'channels': 1 if len(audio_data.shape) == 1 else audio_data.shape[1],\n",
    "                        'valid': True\n",
    "                    })\n",
    "                    validation_results['total_validated'] += 1\n",
    "                else:\n",
    "                    validation_results['corrupted_files'].append(wav_file.name)\n",
    "                    validation_results['total_corrupted'] += 1\n",
    "                    \n",
    "            except Exception as e:\n",
    "                validation_results['corrupted_files'].append(wav_file.name)\n",
    "                validation_results['validation_errors'].append(f\"Error en {wav_file.name}: {e}\")\n",
    "                validation_results['total_corrupted'] += 1\n",
    "    \n",
    "    # Validar archivos pathological\n",
    "    pathological_dir = output_dir / \"pathological\"\n",
    "    if pathological_dir.exists():\n",
    "        for wav_file in pathological_dir.glob(\"*.wav\"):\n",
    "            try:\n",
    "                # Intentar cargar el archivo\n",
    "                audio_data, sr = librosa.load(str(wav_file), sr=None)\n",
    "                \n",
    "                # Verificar propiedades básicas\n",
    "                if len(audio_data) > 0 and sr > 0:\n",
    "                    validation_results['pathological_files'].append({\n",
    "                        'filename': wav_file.name,\n",
    "                        'duration': len(audio_data) / sr,\n",
    "                        'sample_rate': sr,\n",
    "                        'channels': 1 if len(audio_data.shape) == 1 else audio_data.shape[1],\n",
    "                        'valid': True\n",
    "                    })\n",
    "                    validation_results['total_validated'] += 1\n",
    "                else:\n",
    "                    validation_results['corrupted_files'].append(wav_file.name)\n",
    "                    validation_results['total_corrupted'] += 1\n",
    "                    \n",
    "            except Exception as e:\n",
    "                validation_results['corrupted_files'].append(wav_file.name)\n",
    "                validation_results['validation_errors'].append(f\"Error en {wav_file.name}: {e}\")\n",
    "                validation_results['total_corrupted'] += 1\n",
    "    \n",
    "    # Mostrar resultados\n",
    "    print(f\"Validación completada:\")\n",
    "    print(f\"   Archivos healthy válidos: {len(validation_results['healthy_files'])}\")\n",
    "    print(f\"   Archivos pathological válidos: {len(validation_results['pathological_files'])}\")\n",
    "    print(f\"   Total validados: {validation_results['total_validated']}\")\n",
    "    print(f\"   Archivos corruptos: {validation_results['total_corrupted']}\")\n",
    "    print(f\"   Errores: {len(validation_results['validation_errors'])}\")\n",
    "    \n",
    "    return validation_results\n",
    "\n",
    "def generate_final_report(output_dir: Path, final_metadata: Dict, validation_results: Dict):\n",
    "    \"\"\"\n",
    "    Genera reporte final del proceso de preparación.\n",
    "    \n",
    "    Args:\n",
    "        output_dir: Directorio de salida\n",
    "        final_metadata: Metadata del proceso\n",
    "        validation_results: Resultados de validación\n",
    "    \"\"\"\n",
    "    print(f\"[PASO 8/8] Generando reporte final...\")\n",
    "    \n",
    "    report_file = output_dir / \"preparation_report.txt\"\n",
    "    \n",
    "    with open(report_file, 'w', encoding='utf-8') as f:\n",
    "        f.write(\"=\" * 80 + \"\\n\")\n",
    "        f.write(\"REPORTE DE PREPARACIÓN DE DATASET SVDD\\n\")\n",
    "        f.write(\"=\" * 80 + \"\\n\\n\")\n",
    "        \n",
    "        # Información general\n",
    "        f.write(\"INFORMACIÓN GENERAL:\\n\")\n",
    "        f.write(\"-\" * 40 + \"\\n\")\n",
    "        f.write(f\"Fecha de preparación: {final_metadata.get('preparation_info', {}).get('timestamp', 'N/A')}\\n\")\n",
    "        f.write(f\"ZIP origen: {final_metadata.get('preparation_info', {}).get('source_zip', 'N/A')}\\n\")\n",
    "        f.write(f\"Patrón vocal: {final_metadata.get('preparation_info', {}).get('vowel_pattern', 'N/A')}\\n\")\n",
    "        f.write(f\"Sample rate objetivo: {final_metadata.get('preparation_info', {}).get('target_sample_rate', 'N/A')} Hz\\n\")\n",
    "        f.write(f\"Seed utilizado: {final_metadata.get('preparation_info', {}).get('seed', 'N/A')}\\n\\n\")\n",
    "        \n",
    "        # Estadísticas de extracción\n",
    "        f.write(\"ESTADÍSTICAS DE EXTRACCIÓN:\\n\")\n",
    "        f.write(\"-\" * 40 + \"\\n\")\n",
    "        extraction_stats = final_metadata.get('extraction_stats', {})\n",
    "        f.write(f\"Total archivos NSP: {extraction_stats.get('total_nsp_files', 0)}\\n\")\n",
    "        f.write(f\"Vocales /a/ encontradas: {extraction_stats.get('vowel_a_files', 0)}\\n\")\n",
    "        f.write(f\"Archivos healthy extraídos: {extraction_stats.get('healthy_extracted', 0)}\\n\")\n",
    "        f.write(f\"Archivos pathological extraídos: {extraction_stats.get('pathological_extracted', 0)}\\n\\n\")\n",
    "        \n",
    "        # Estadísticas de conversión\n",
    "        f.write(\"ESTADÍSTICAS DE CONVERSIÓN:\\n\")\n",
    "        f.write(\"-\" * 40 + \"\\n\")\n",
    "        conversion_stats = final_metadata.get('conversion_stats', {})\n",
    "        f.write(f\"Total conversiones: {conversion_stats.get('total_conversions', 0)}\\n\")\n",
    "        f.write(f\"Conversiones exitosas: {conversion_stats.get('successful_conversions', 0)}\\n\")\n",
    "        f.write(f\"Conversiones fallidas: {conversion_stats.get('failed_conversions', 0)}\\n\")\n",
    "        if conversion_stats.get('total_conversions', 0) > 0:\n",
    "            success_rate = (conversion_stats.get('successful_conversions', 0) / conversion_stats.get('total_conversions', 1)) * 100\n",
    "            f.write(f\"Tasa de éxito: {success_rate:.1f}%\\n\")\n",
    "        f.write(\"\\n\")\n",
    "        \n",
    "        # Estadísticas de balanceo\n",
    "        f.write(\"ESTADÍSTICAS DE BALANCEO:\\n\")\n",
    "        f.write(\"-\" * 40 + \"\\n\")\n",
    "        balancing_stats = final_metadata.get('balancing_stats', {})\n",
    "        f.write(f\"Archivos balanceados: {balancing_stats.get('balanced_files', 0)}\\n\")\n",
    "        f.write(f\"Healthy balanceados: {balancing_stats.get('healthy_balanced', 0)}\\n\")\n",
    "        f.write(f\"Pathological balanceados: {balancing_stats.get('pathological_balanced', 0)}\\n\\n\")\n",
    "        \n",
    "        # Estructura final\n",
    "        f.write(\"ESTRUCTURA FINAL:\\n\")\n",
    "        f.write(\"-\" * 40 + \"\\n\")\n",
    "        final_structure = final_metadata.get('final_structure', {})\n",
    "        f.write(f\"Total archivos finales: {final_structure.get('total_files', 0)}\\n\")\n",
    "        f.write(f\"Archivos healthy finales: {final_structure.get('healthy_files', 0)}\\n\")\n",
    "        f.write(f\"Archivos pathological finales: {final_structure.get('pathological_files', 0)}\\n\")\n",
    "        f.write(f\"Tamaño total: {final_structure.get('total_size_mb', 0):.1f} MB\\n\")\n",
    "        f.write(f\"Errores en organización: {final_structure.get('errors', 0)}\\n\\n\")\n",
    "        \n",
    "        # Validación\n",
    "        f.write(\"VALIDACIÓN FINAL:\\n\")\n",
    "        f.write(\"-\" * 40 + \"\\n\")\n",
    "        f.write(f\"Archivos healthy válidos: {len(validation_results.get('healthy_files', []))}\\n\")\n",
    "        f.write(f\"Archivos pathological válidos: {len(validation_results.get('pathological_files', []))}\\n\")\n",
    "        f.write(f\"Total validados: {validation_results.get('total_validated', 0)}\\n\")\n",
    "        f.write(f\"Archivos corruptos: {validation_results.get('total_corrupted', 0)}\\n\")\n",
    "        f.write(f\"Errores de validación: {len(validation_results.get('validation_errors', []))}\\n\\n\")\n",
    "        \n",
    "        # Errores detallados\n",
    "        if validation_results.get('validation_errors'):\n",
    "            f.write(\"ERRORES DE VALIDACIÓN:\\n\")\n",
    "            f.write(\"-\" * 40 + \"\\n\")\n",
    "            for error in validation_results['validation_errors']:\n",
    "                f.write(f\"- {error}\\n\")\n",
    "            f.write(\"\\n\")\n",
    "        \n",
    "        # Archivos corruptos\n",
    "        if validation_results.get('corrupted_files'):\n",
    "            f.write(\"ARCHIVOS CORRUPTOS:\\n\")\n",
    "            f.write(\"-\" * 40 + \"\\n\")\n",
    "            for corrupted_file in validation_results['corrupted_files']:\n",
    "                f.write(f\"- {corrupted_file}\\n\")\n",
    "            f.write(\"\\n\")\n",
    "        \n",
    "        f.write(\"=\" * 80 + \"\\n\")\n",
    "        f.write(\"FIN DEL REPORTE\\n\")\n",
    "        f.write(\"=\" * 80 + \"\\n\")\n",
    "    \n",
    "    print(f\"Reporte guardado en: {report_file}\")\n",
    "\n",
    "# Ejecutar validación y reporte final solo si no está completado\n",
    "if not check_step_completed('validation'):\n",
    "    # Asegurar que el directorio de salida existe\n",
    "    OUTPUT_DIR.mkdir(parents=True, exist_ok=True)\n",
    "    \n",
    "    if OUTPUT_DIR.exists():\n",
    "        print(f\"\\nIniciando validación final...\")\n",
    "        validation_results = validate_final_dataset(OUTPUT_DIR)\n",
    "        \n",
    "        if final_metadata:\n",
    "            print(f\"\\nGenerando reporte final...\")\n",
    "            generate_final_report(OUTPUT_DIR, final_metadata, validation_results)\n",
    "            print(f\"Reporte generado exitosamente\")\n",
    "            \n",
    "            # Guardar estado final\n",
    "            save_state('validation')\n",
    "        else:\n",
    "            print(f\"No hay metadata para generar reporte\")\n",
    "            validation_results = {}\n",
    "    else:\n",
    "        print(f\"No se pudo crear el directorio de salida: {OUTPUT_DIR}\")\n",
    "        validation_results = {}\n",
    "else:\n",
    "    print(\"Validación ya completada. Saltando paso...\")\n",
    "    validation_results = {}\n"
   ]
  },
  {
   "cell_type": "code",
   "execution_count": 12,
   "metadata": {},
   "outputs": [
    {
     "name": "stdout",
     "output_type": "stream",
     "text": [
      "\n",
      "Finalizando proceso...\n",
      "\n",
      "ESTADO ACTUAL DE LAS CARPETAS:\n",
      "   Directorio principal: data\\svdd_processed\n",
      "   Existe: True\n",
      "   Contenido:\n",
      "     healthy/: 2748 archivos WAV (272.7 MB)\n",
      "     pathological/: 5412 archivos WAV (527.0 MB)\n",
      "Estado previo encontrado: balancing\n",
      "Proceso no completado. Conservando archivos temporales para continuar después.\n",
      "\n",
      "================================================================================\n",
      "RESUMEN FINAL DEL PROCESO DE PREPARACIÓN SVDD\n",
      "================================================================================\n",
      "\n",
      "ARCHIVOS EN CARPETAS FINALES:\n",
      "   data\\svdd_processed\\healthy: 2748 archivos (272.7 MB)\n",
      "   data\\svdd_processed\\pathological: 5412 archivos (527.0 MB)\n",
      "   Total: 8160 archivos (799.7 MB)\n",
      "\n",
      "ARCHIVOS GENERADOS:\n",
      "   Dataset: data\\svdd_processed/\n",
      "   Metadata: data\\svdd_processed/metadata.json\n",
      "   Reporte: data\\svdd_processed/preparation_report.txt\n",
      "\n",
      "PRÓXIMOS PASOS:\n",
      "   1. Verificar que los archivos WAV se cargan correctamente\n",
      "   2. Usar el dataset en el pipeline de entrenamiento\n",
      "   3. Ejecutar data_preprocessing.ipynb con los nuevos datos\n",
      "\n",
      "================================================================================\n",
      "PROCESO COMPLETADO EXITOSAMENTE\n",
      "================================================================================\n",
      "\n",
      "Notebook de preparación de datos SVDD completado.\n",
      "El dataset está listo para ser usado en el pipeline de entrenamiento.\n"
     ]
    }
   ],
   "source": [
    "# ============================================================================\n",
    "# 9. LIMPIEZA Y RESUMEN FINAL\n",
    "# ============================================================================\n",
    "\n",
    "def cleanup_temp_files(temp_dir: Path):\n",
    "    \"\"\"\n",
    "    Limpia archivos temporales.\n",
    "    \n",
    "    Args:\n",
    "        temp_dir: Directorio temporal a limpiar\n",
    "    \"\"\"\n",
    "    print(f\"Limpiando archivos temporales...\")\n",
    "    \n",
    "    try:\n",
    "        if temp_dir.exists():\n",
    "            shutil.rmtree(temp_dir)\n",
    "            print(f\"Directorio temporal eliminado: {temp_dir}\")\n",
    "        else:\n",
    "            print(f\"Directorio temporal no existe: {temp_dir}\")\n",
    "    except Exception as e:\n",
    "        print(f\"Error limpiando directorio temporal: {e}\")\n",
    "\n",
    "def count_final_files():\n",
    "    \"\"\"\n",
    "    Cuenta archivos en las carpetas finales.\n",
    "    \n",
    "    Returns:\n",
    "        Diccionario con conteos de archivos\n",
    "    \"\"\"\n",
    "    counts = {\n",
    "        'healthy_files': 0,\n",
    "        'pathological_files': 0,\n",
    "        'total_files': 0,\n",
    "        'healthy_size_mb': 0,\n",
    "        'pathological_size_mb': 0,\n",
    "        'total_size_mb': 0\n",
    "    }\n",
    "    \n",
    "    # Contar archivos healthy\n",
    "    if HEALTHY_DIR.exists():\n",
    "        healthy_files = list(HEALTHY_DIR.glob(\"*.wav\"))\n",
    "        counts['healthy_files'] = len(healthy_files)\n",
    "        counts['healthy_size_mb'] = sum(f.stat().st_size for f in healthy_files) / (1024*1024)\n",
    "    \n",
    "    # Contar archivos pathological\n",
    "    if PATHOLOGICAL_DIR.exists():\n",
    "        pathological_files = list(PATHOLOGICAL_DIR.glob(\"*.wav\"))\n",
    "        counts['pathological_files'] = len(pathological_files)\n",
    "        counts['pathological_size_mb'] = sum(f.stat().st_size for f in pathological_files) / (1024*1024)\n",
    "    \n",
    "    counts['total_files'] = counts['healthy_files'] + counts['pathological_files']\n",
    "    counts['total_size_mb'] = counts['healthy_size_mb'] + counts['pathological_size_mb']\n",
    "    \n",
    "    return counts\n",
    "\n",
    "def print_final_summary(final_metadata: Dict, validation_results: Dict):\n",
    "    \"\"\"\n",
    "    Imprime resumen final del proceso.\n",
    "    \n",
    "    Args:\n",
    "        final_metadata: Metadata del proceso\n",
    "        validation_results: Resultados de validación\n",
    "    \"\"\"\n",
    "    print(\"\\n\" + \"=\"*80)\n",
    "    print(\"RESUMEN FINAL DEL PROCESO DE PREPARACIÓN SVDD\")\n",
    "    print(\"=\"*80)\n",
    "    \n",
    "    # Contar archivos actuales en las carpetas\n",
    "    current_counts = count_final_files()\n",
    "    \n",
    "    if final_metadata:\n",
    "        # Información general\n",
    "        print(f\"\\nINFORMACIÓN GENERAL:\")\n",
    "        print(f\"   Fecha: {final_metadata.get('preparation_info', {}).get('timestamp', 'N/A')}\")\n",
    "        print(f\"   ZIP origen: {final_metadata.get('preparation_info', {}).get('source_zip', 'N/A')}\")\n",
    "        print(f\"   Patrón vocal: {final_metadata.get('preparation_info', {}).get('vowel_pattern', 'N/A')}\")\n",
    "        print(f\"   Sample rate: {final_metadata.get('preparation_info', {}).get('target_sample_rate', 'N/A')} Hz\")\n",
    "        \n",
    "        # Estadísticas finales\n",
    "        final_structure = final_metadata.get('final_structure', {})\n",
    "        print(f\"\\nESTRUCTURA FINAL:\")\n",
    "        print(f\"   Total archivos: {final_structure.get('total_files', 0)}\")\n",
    "        print(f\"   Healthy: {final_structure.get('healthy_files', 0)}\")\n",
    "        print(f\"   Pathological: {final_structure.get('pathological_files', 0)}\")\n",
    "        print(f\"   Tamaño total: {final_structure.get('total_size_mb', 0):.1f} MB\")\n",
    "        \n",
    "        # Validación\n",
    "        print(f\"\\nVALIDACIÓN:\")\n",
    "        print(f\"   Archivos válidos: {validation_results.get('total_validated', 0)}\")\n",
    "        print(f\"   Archivos corruptos: {validation_results.get('total_corrupted', 0)}\")\n",
    "        print(f\"   Errores: {len(validation_results.get('validation_errors', []))}\")\n",
    "        \n",
    "        # Tasa de éxito general\n",
    "        total_processed = final_metadata.get('extraction_stats', {}).get('vowel_a_files', 0)\n",
    "        final_files = final_structure.get('total_files', 0)\n",
    "        if total_processed > 0:\n",
    "            success_rate = (final_files / total_processed) * 100\n",
    "            print(f\"\\nTASA DE ÉXITO GENERAL: {success_rate:.1f}%\")\n",
    "            print(f\"   ({final_files} archivos finales de {total_processed} extraídos)\")\n",
    "    \n",
    "    # Mostrar conteo actual de archivos\n",
    "    print(f\"\\nARCHIVOS EN CARPETAS FINALES:\")\n",
    "    print(f\"   {HEALTHY_DIR}: {current_counts['healthy_files']} archivos ({current_counts['healthy_size_mb']:.1f} MB)\")\n",
    "    print(f\"   {PATHOLOGICAL_DIR}: {current_counts['pathological_files']} archivos ({current_counts['pathological_size_mb']:.1f} MB)\")\n",
    "    print(f\"   Total: {current_counts['total_files']} archivos ({current_counts['total_size_mb']:.1f} MB)\")\n",
    "    \n",
    "    print(f\"\\nARCHIVOS GENERADOS:\")\n",
    "    print(f\"   Dataset: {OUTPUT_DIR}/\")\n",
    "    print(f\"   Metadata: {OUTPUT_DIR}/metadata.json\")\n",
    "    print(f\"   Reporte: {OUTPUT_DIR}/preparation_report.txt\")\n",
    "    \n",
    "    print(f\"\\nPRÓXIMOS PASOS:\")\n",
    "    print(f\"   1. Verificar que los archivos WAV se cargan correctamente\")\n",
    "    print(f\"   2. Usar el dataset en el pipeline de entrenamiento\")\n",
    "    print(f\"   3. Ejecutar data_preprocessing.ipynb con los nuevos datos\")\n",
    "    \n",
    "    print(\"\\n\" + \"=\"*80)\n",
    "    print(\"PROCESO COMPLETADO EXITOSAMENTE\")\n",
    "    print(\"=\"*80)\n",
    "\n",
    "# Ejecutar limpieza y resumen final\n",
    "print(f\"\\nFinalizando proceso...\")\n",
    "\n",
    "# Mostrar estado actual de las carpetas\n",
    "print(f\"\\nESTADO ACTUAL DE LAS CARPETAS:\")\n",
    "print(f\"   Directorio principal: {OUTPUT_DIR}\")\n",
    "print(f\"   Existe: {OUTPUT_DIR.exists()}\")\n",
    "\n",
    "if OUTPUT_DIR.exists():\n",
    "    print(f\"   Contenido:\")\n",
    "    for item in OUTPUT_DIR.iterdir():\n",
    "        if item.is_dir():\n",
    "            file_count = len(list(item.glob(\"*.wav\")))\n",
    "            size_mb = sum(f.stat().st_size for f in item.glob(\"*.wav\")) / (1024*1024)\n",
    "            print(f\"     {item.name}/: {file_count} archivos WAV ({size_mb:.1f} MB)\")\n",
    "        else:\n",
    "            print(f\"     {item.name}\")\n",
    "\n",
    "# Limpiar archivos temporales solo si el proceso está completo\n",
    "if check_step_completed('validation'):\n",
    "    cleanup_temp_files(TEMP_DIR)\n",
    "    print(\"Proceso completado. Archivos temporales eliminados.\")\n",
    "else:\n",
    "    print(\"Proceso no completado. Conservando archivos temporales para continuar después.\")\n",
    "\n",
    "# Mostrar resumen final\n",
    "print_final_summary(final_metadata, validation_results)\n",
    "\n",
    "print(f\"\\nNotebook de preparación de datos SVDD completado.\")\n",
    "print(f\"El dataset está listo para ser usado en el pipeline de entrenamiento.\")\n"
   ]
  }
 ],
 "metadata": {
  "kernelspec": {
   "display_name": "parkinson_env",
   "language": "python",
   "name": "parkinson_env"
  },
  "language_info": {
   "codemirror_mode": {
    "name": "ipython",
    "version": 3
   },
   "file_extension": ".py",
   "mimetype": "text/x-python",
   "name": "python",
   "nbconvert_exporter": "python",
   "pygments_lexer": "ipython3",
   "version": "3.10.3"
  }
 },
 "nbformat": 4,
 "nbformat_minor": 4
}
