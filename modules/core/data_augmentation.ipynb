{
  "cells": [
    {
      "cell_type": "markdown",
      "metadata": {},
      "source": [
        "# Data Augmentation para Espectrogramas\n",
        "\n",
        "## Propósito\n",
        "\n",
        "Este notebook aplica técnicas de augmentation a los espectrogramas preprocesados.\n",
        "\n",
        "### Pipeline:\n",
        "1. Cargar espectrogramas base desde cache (sin augmentation)\n",
        "2. Aplicar augmentation (pitch shift, time stretch, noise, SpecAugment)\n",
        "3. Guardar en cache separado\n",
        "\n",
        "### Uso:\n",
        "- cnn_training.ipynb usa estos datos augmentados\n",
        "- Otros notebooks usan datos sin augmentation (paper exacto)"
      ]
    }
  ],
  "metadata": {
    "kernelspec": {
      "display_name": "parkinson_env",
      "language": "python",
      "name": "parkinson_env"
    }
  },
  "nbformat": 4,
  "nbformat_minor": 2
}
